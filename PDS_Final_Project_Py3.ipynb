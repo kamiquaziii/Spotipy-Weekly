{
 "cells": [
  {
   "cell_type": "markdown",
   "metadata": {
    "colab_type": "text",
    "id": "xeytqN306Y2K"
   },
   "source": [
    "# SpotiPy Weekly"
   ]
  },
  {
   "cell_type": "markdown",
   "metadata": {
    "colab_type": "text",
    "id": "nKKfJ1xgKHlH"
   },
   "source": [
    "By George Brown, Zachary Goldstein, and Zuhayer Quazi"
   ]
  },
  {
   "cell_type": "markdown",
   "metadata": {
    "colab_type": "text",
    "id": "nU0XN_cv8-kK"
   },
   "source": [
    "### Introduction\n",
    "\n",
    "Our overall goal with this project is to analyze a spotify user's playlists to predict which songs they would like and which they would not like. The steps for accomplishing this are:\n",
    "\n",
    "1. Download the user's playlists, as well as an equal number of songs in genres which the user dislikes.\n",
    "2. Create features from both numerical features of the song, such as tempo, and categorical features, such as key.\n",
    "3. Create a model to predict whether or not a song is in the user's playlists.\n",
    "4. Use this model to pick songs out of the top new releases that have a high probability of being in the user's playlists, and therefore a high probability of being liked by the user."
   ]
  },
  {
   "cell_type": "markdown",
   "metadata": {
    "colab_type": "text",
    "id": "vePJitEbIzDv"
   },
   "source": [
    "### Previous Related Work"
   ]
  },
  {
   "cell_type": "markdown",
   "metadata": {
    "colab_type": "text",
    "id": "JG8q7oVWI2Rt"
   },
   "source": [
    "\n",
    "\n",
    "1.   http://tamaszilagyi.com/blog/analyzing-my-spotify-listening-history/\n",
    "2.   https://towardsdatascience.com/making-your-own-discover-weekly-f1ac7546fedb\n",
    "\n"
   ]
  },
  {
   "cell_type": "markdown",
   "metadata": {
    "colab_type": "text",
    "id": "WoJbojPnI5AP"
   },
   "source": [
    "## Installing/Importing Libraries"
   ]
  },
  {
   "cell_type": "markdown",
   "metadata": {
    "colab_type": "text",
    "id": "Sik8kBpGCHgP"
   },
   "source": [
    "Installing Spotipy Library"
   ]
  },
  {
   "cell_type": "code",
   "execution_count": 1,
   "metadata": {
    "colab": {
     "autoexec": {
      "startup": false,
      "wait_interval": 0
     }
    },
    "colab_type": "code",
    "collapsed": true,
    "id": "SodwrL8ISw5u"
   },
   "outputs": [],
   "source": [
    "# !pip install spotipy\n",
    "# The rest of the libraries used are standard"
   ]
  },
  {
   "cell_type": "code",
   "execution_count": 2,
   "metadata": {
    "colab": {
     "autoexec": {
      "startup": false,
      "wait_interval": 0
     }
    },
    "colab_type": "code",
    "collapsed": true,
    "id": "44PYdGu2SZI2"
   },
   "outputs": [],
   "source": [
    "# Data Collection - Spotify\n",
    "import spotipy\n",
    "import spotipy.util as util\n",
    "\n",
    "# Data Cleaning / Processing / Analysis\n",
    "import pandas as pd\n",
    "\n",
    "# Data Visualization\n",
    "import matplotlib.pyplot as plt\n",
    "\n",
    "# Clustering\n",
    "from sklearn.cluster import KMeans\n",
    "\n",
    "# Splitting into Training and Testing Data\n",
    "from sklearn import model_selection\n",
    "\n",
    "# Classification\n",
    "from sklearn.linear_model import LogisticRegression\n",
    "from sklearn.ensemble import GradientBoostingClassifier"
   ]
  },
  {
   "cell_type": "markdown",
   "metadata": {
    "colab_type": "text",
    "id": "2g0O1CPuAp1J"
   },
   "source": [
    "## **Pulling User Data using Spotipy**\n",
    "First, we need to pull all the songs/playlist data for a given user. We will do this using Spotipy. The user will insert his/her username (in my case, it is 'zquazi'), from which point they will be redirected to log in. Once the user is authenticated, we will receive a token and will then be able to access all user Spotify data. \n"
   ]
  },
  {
   "cell_type": "markdown",
   "metadata": {},
   "source": [
    "### Don't run this cell - this is extracting user data. We have provided all data in a CSV file."
   ]
  },
  {
   "cell_type": "code",
   "execution_count": 3,
   "metadata": {
    "colab": {
     "autoexec": {
      "startup": false,
      "wait_interval": 0
     },
     "base_uri": "https://localhost:8080/",
     "height": 255
    },
    "colab_type": "code",
    "executionInfo": {
     "elapsed": 315,
     "status": "error",
     "timestamp": 1525804024654,
     "user": {
      "displayName": "Zachary Goldstein",
      "photoUrl": "https://lh3.googleusercontent.com/a/default-user=s128",
      "userId": "101517250061806100921"
     },
     "user_tz": 240
    },
    "id": "PYGChfIqW0uI",
    "outputId": "eabf37cd-08c3-428c-905e-1ccc240c3339"
   },
   "outputs": [
    {
     "name": "stdout",
     "output_type": "stream",
     "text": [
      "New Songs for You\n",
      "  total tracks 70\n",
      "boothy\n",
      "  total tracks 44\n",
      "Practice\n",
      "  total tracks 31\n",
      "enjoy\n",
      "  total tracks 111\n",
      "Bangers\n",
      "  total tracks 152\n",
      "Thoughts\n",
      "  total tracks 44\n",
      "linear algebra\n",
      "  total tracks 153\n",
      "LOL\n",
      "  total tracks 265\n",
      "TB\n",
      "  total tracks 268\n",
      "turnt\n",
      "  total tracks 125\n",
      "goodfeel\n",
      "  total tracks 506\n",
      "Slower\n",
      "  total tracks 150\n",
      "Christmas Hype\n",
      "  total tracks 71\n",
      "GR8\n",
      "  total tracks 338\n",
      "Dub\n",
      "  total tracks 156\n",
      "Band Songs\n",
      "  total tracks 87\n",
      "hateful\n",
      "  total tracks 1724\n"
     ]
    }
   ],
   "source": [
    "# artists = [] #all artists\n",
    "# song_ids = [] #all song ids\n",
    "# song_names = [] #names of all songs\n",
    "# playlist_s = [] #names of playlists\n",
    "# all_songs = {} #dictionary of all playlists + songs in each playlist\n",
    "\n",
    "# def show_tracks(tracks, playlist_name):\n",
    "#     for i, item in enumerate(tracks['items']):\n",
    "#         track = item['track']\n",
    "#         #extract tracks from a given playlist --> if track is not NULL, extract data and add to lists\n",
    "#         if(track['id'] != None):\n",
    "#             artists.append(track['artists'][0]['name'])\n",
    "#             song_ids.append(track['id'])\n",
    "#             song_names.append(track['name'])\n",
    "#             playlist_s.append(playlist_name)\n",
    "#             all_songs[playlist_name].append(track['name'])\n",
    "\n",
    "\n",
    "# username = 'zquazi' #my spotify username\n",
    "\n",
    "# #get token from spotify + authenticate user\n",
    "# token = util.prompt_for_user_token(username,scope = 'user-library-read',client_id='91d0861f48494759abc3ff706433c107',client_secret='1a4622890abc418e817727a1b0266ebe',redirect_uri='https://example.com/callback')\n",
    "\n",
    "# if token:\n",
    "#     #iterate through user playlists and extract songs\n",
    "#     sp = spotipy.Spotify(auth=token)\n",
    "#     playlists = sp.user_playlists(username)\n",
    "#     for playlist in playlists['items']:\n",
    "#         if playlist['owner']['id'] == username:\n",
    "#             all_songs[playlist['name']] = []\n",
    "#             print(playlist['name'])\n",
    "#             print('  total tracks', playlist['tracks']['total'])\n",
    "#             results = sp.user_playlist(username, playlist['id'],\n",
    "#                 fields=\"tracks,next\")\n",
    "#             tracks = results['tracks']\n",
    "#             show_tracks(tracks, playlist['name'])\n",
    "#             while tracks['next']:\n",
    "#                 tracks = sp.next(tracks)\n",
    "#                 show_tracks(tracks, playlist['name'])\n",
    "# else:\n",
    "#     print(\"Can't get token for\", username)\n",
    "       "
   ]
  },
  {
   "cell_type": "markdown",
   "metadata": {
    "colab_type": "text",
    "id": "Hxbdt40cBM5Y"
   },
   "source": [
    "## Accessing Audio Features\n",
    "Now, we have all user song/playlist data. The next step is to extract the audio features for each song within the user's library, which will allow us to predict a user's song preferences.\n",
    "\n",
    "The features that we are able to extract are:\n",
    "\n",
    "\n",
    "1.   Danceability (how suitable a song is for dancing)\n",
    "2.   Energy (a measure of the intensity of the song)\n",
    "3.   Key (the key of a song, e.g. \"C#\", \"Bb\", etc.)\n",
    "4.   Loudness (average loudness in decibels)\n",
    "5.   Mode (whether a song is major (1) or minor (0))\n",
    "6.   Speechiness (the presence of spoken words in a song)\n",
    "7.   Acousticness (a confidence measure from 0.0 to 1.0 of how likely a song is to be acoustic)\n",
    "8.   Liveness (the probability that the song was recorded live)\n",
    "9.   Tempo (how fast the song is, in beats per minute)\n",
    "10.  Valence (how positive/negative a song is)\n",
    "11.  Duration (in ms)\n",
    "12.  Instrumentalness (predicts whether a song contains vocals or not; score from 0.0 to 1.0)\n",
    "13.  Time Signature (estimated overall time signature - specifies how many beats are in each bar/measure)\n",
    "\n"
   ]
  },
  {
   "cell_type": "code",
   "execution_count": 4,
   "metadata": {
    "colab": {
     "autoexec": {
      "startup": false,
      "wait_interval": 0
     },
     "base_uri": "https://localhost:8080/",
     "height": 232
    },
    "colab_type": "code",
    "collapsed": true,
    "executionInfo": {
     "elapsed": 7714,
     "status": "error",
     "timestamp": 1525716580155,
     "user": {
      "displayName": "Zuhayer Quazi",
      "photoUrl": "//lh5.googleusercontent.com/-NTmAkTwFEkE/AAAAAAAAAAI/AAAAAAAAACg/HAqyj7Qaruk/s50-c-k-no/photo.jpg",
      "userId": "105237576177412520274"
     },
     "user_tz": 240
    },
    "id": "S4Y4VdAaZhEE",
    "outputId": "18d84339-e1ab-4776-8151-dbda2713af90"
   },
   "outputs": [],
   "source": [
    "# chunks = [song_ids[x:x+50] for x in range(0, len(song_ids), 50)]\n",
    "# features = []\n",
    "# #get audio features from sp.audio_features for a subsection of our songs\n",
    "# for chunk in chunks:\n",
    "#     features += sp.audio_features(chunk)\n",
    "\n",
    "# #lists for each audio feature\n",
    "# danceability = []\n",
    "# energy = []\n",
    "# key = []\n",
    "# loudness = []\n",
    "# mode = []\n",
    "# speechiness = []\n",
    "# acousticness = []\n",
    "# liveness = []\n",
    "# tempo = []\n",
    "# valence = []\n",
    "# duration = []\n",
    "# instrumentalness = []\n",
    "# mode = []\n",
    "# time_signature = []\n",
    "\n",
    "# #add corresponding feature into correct list\n",
    "# for i, elem in enumerate(features):\n",
    "#     if(elem==None):\n",
    "#         del song_names[i]\n",
    "#         del song_ids[i]\n",
    "#         del artists[i]\n",
    "#         del playlist_s[i]\n",
    "#     else:\n",
    "#         danceability.append(elem['danceability'])\n",
    "#         energy.append(elem['energy'])\n",
    "#         key.append(elem['key'])\n",
    "#         loudness.append(elem['loudness'])\n",
    "#         mode.append(elem['mode'])\n",
    "#         speechiness.append(elem['speechiness'])\n",
    "#         acousticness.append(elem['acousticness'])\n",
    "#         liveness.append(elem['liveness'])\n",
    "#         tempo.append(elem['tempo'])\n",
    "#         valence.append(elem['valence'])\n",
    "#         duration.append(elem['duration_ms'])\n",
    "#         instrumentalness.append(elem['instrumentalness'])\n",
    "#         time_signature.append(elem['time_signature'])\n",
    "\n",
    "\n",
    "\n"
   ]
  },
  {
   "cell_type": "markdown",
   "metadata": {
    "colab_type": "text",
    "id": "xOpveJ5CCFyz"
   },
   "source": [
    "## Building Our DataFrame\n",
    "Now that we have the audio features for all the songs within the user's library, we will convert our data into a DataFrame. "
   ]
  },
  {
   "cell_type": "code",
   "execution_count": 5,
   "metadata": {
    "colab": {
     "autoexec": {
      "startup": false,
      "wait_interval": 0
     },
     "base_uri": "https://localhost:8080/",
     "height": 445
    },
    "colab_type": "code",
    "executionInfo": {
     "elapsed": 290,
     "status": "ok",
     "timestamp": 1525222373770,
     "user": {
      "displayName": "Zuhayer Quazi",
      "photoUrl": "https://lh3.googleusercontent.com/a/default-user=s128",
      "userId": "105237576177412520274"
     },
     "user_tz": 240
    },
    "id": "8fpIi-jgW37R",
    "outputId": "62d85ac2-8370-4ace-b249-24c32b06c4b2"
   },
   "outputs": [
    {
     "data": {
      "text/html": [
       "<div>\n",
       "<style scoped>\n",
       "    .dataframe tbody tr th:only-of-type {\n",
       "        vertical-align: middle;\n",
       "    }\n",
       "\n",
       "    .dataframe tbody tr th {\n",
       "        vertical-align: top;\n",
       "    }\n",
       "\n",
       "    .dataframe thead th {\n",
       "        text-align: right;\n",
       "    }\n",
       "</style>\n",
       "<table border=\"1\" class=\"dataframe\">\n",
       "  <thead>\n",
       "    <tr style=\"text-align: right;\">\n",
       "      <th></th>\n",
       "      <th>acousticness</th>\n",
       "      <th>artist</th>\n",
       "      <th>danceability</th>\n",
       "      <th>duration</th>\n",
       "      <th>energy</th>\n",
       "      <th>instrumentalness</th>\n",
       "      <th>key</th>\n",
       "      <th>liveness</th>\n",
       "      <th>loudness</th>\n",
       "      <th>mode</th>\n",
       "      <th>playlist</th>\n",
       "      <th>song id</th>\n",
       "      <th>song name</th>\n",
       "      <th>speechiness</th>\n",
       "      <th>tempo</th>\n",
       "      <th>time_signature</th>\n",
       "      <th>valence</th>\n",
       "    </tr>\n",
       "  </thead>\n",
       "  <tbody>\n",
       "    <tr>\n",
       "      <th>0</th>\n",
       "      <td>0.23300</td>\n",
       "      <td>Preme</td>\n",
       "      <td>0.950</td>\n",
       "      <td>250653</td>\n",
       "      <td>0.736</td>\n",
       "      <td>0.000004</td>\n",
       "      <td>10</td>\n",
       "      <td>0.3650</td>\n",
       "      <td>-3.183</td>\n",
       "      <td>0</td>\n",
       "      <td>New Songs for You</td>\n",
       "      <td>3XmKQDhplvk0wtPMuHOTHL</td>\n",
       "      <td>Frostbite</td>\n",
       "      <td>0.195</td>\n",
       "      <td>124.994</td>\n",
       "      <td>4</td>\n",
       "      <td>0.573</td>\n",
       "    </tr>\n",
       "    <tr>\n",
       "      <th>1</th>\n",
       "      <td>0.00677</td>\n",
       "      <td>Desiigner</td>\n",
       "      <td>0.857</td>\n",
       "      <td>178852</td>\n",
       "      <td>0.697</td>\n",
       "      <td>0.000000</td>\n",
       "      <td>0</td>\n",
       "      <td>0.5080</td>\n",
       "      <td>-3.645</td>\n",
       "      <td>0</td>\n",
       "      <td>New Songs for You</td>\n",
       "      <td>544FLIfmISCEEvPaU0Jn8w</td>\n",
       "      <td>Tonka</td>\n",
       "      <td>0.309</td>\n",
       "      <td>139.976</td>\n",
       "      <td>4</td>\n",
       "      <td>0.450</td>\n",
       "    </tr>\n",
       "    <tr>\n",
       "      <th>2</th>\n",
       "      <td>0.11500</td>\n",
       "      <td>Royce Da 5'9\"</td>\n",
       "      <td>0.719</td>\n",
       "      <td>213692</td>\n",
       "      <td>0.571</td>\n",
       "      <td>0.000005</td>\n",
       "      <td>1</td>\n",
       "      <td>0.0791</td>\n",
       "      <td>-4.178</td>\n",
       "      <td>1</td>\n",
       "      <td>New Songs for You</td>\n",
       "      <td>3qglYeMgK0rWFD2gcSojUw</td>\n",
       "      <td>Cocaine</td>\n",
       "      <td>0.182</td>\n",
       "      <td>85.989</td>\n",
       "      <td>4</td>\n",
       "      <td>0.211</td>\n",
       "    </tr>\n",
       "    <tr>\n",
       "      <th>3</th>\n",
       "      <td>0.13300</td>\n",
       "      <td>Preme</td>\n",
       "      <td>0.770</td>\n",
       "      <td>261880</td>\n",
       "      <td>0.562</td>\n",
       "      <td>0.000000</td>\n",
       "      <td>8</td>\n",
       "      <td>0.6420</td>\n",
       "      <td>-5.156</td>\n",
       "      <td>1</td>\n",
       "      <td>New Songs for You</td>\n",
       "      <td>4aR1EuT9zTZLIo2RnkhFpf</td>\n",
       "      <td>Loaded</td>\n",
       "      <td>0.248</td>\n",
       "      <td>109.964</td>\n",
       "      <td>4</td>\n",
       "      <td>0.303</td>\n",
       "    </tr>\n",
       "    <tr>\n",
       "      <th>4</th>\n",
       "      <td>0.00500</td>\n",
       "      <td>Preme</td>\n",
       "      <td>0.863</td>\n",
       "      <td>210787</td>\n",
       "      <td>0.572</td>\n",
       "      <td>0.000105</td>\n",
       "      <td>0</td>\n",
       "      <td>0.1070</td>\n",
       "      <td>-7.537</td>\n",
       "      <td>0</td>\n",
       "      <td>New Songs for You</td>\n",
       "      <td>2pCD1kCkSXHfM1rTzsIKgd</td>\n",
       "      <td>No Defeat</td>\n",
       "      <td>0.342</td>\n",
       "      <td>155.063</td>\n",
       "      <td>4</td>\n",
       "      <td>0.324</td>\n",
       "    </tr>\n",
       "  </tbody>\n",
       "</table>\n",
       "</div>"
      ],
      "text/plain": [
       "   acousticness         artist  danceability  duration  energy  \\\n",
       "0       0.23300          Preme         0.950    250653   0.736   \n",
       "1       0.00677      Desiigner         0.857    178852   0.697   \n",
       "2       0.11500  Royce Da 5'9\"         0.719    213692   0.571   \n",
       "3       0.13300          Preme         0.770    261880   0.562   \n",
       "4       0.00500          Preme         0.863    210787   0.572   \n",
       "\n",
       "   instrumentalness  key  liveness  loudness  mode           playlist  \\\n",
       "0          0.000004   10    0.3650    -3.183     0  New Songs for You   \n",
       "1          0.000000    0    0.5080    -3.645     0  New Songs for You   \n",
       "2          0.000005    1    0.0791    -4.178     1  New Songs for You   \n",
       "3          0.000000    8    0.6420    -5.156     1  New Songs for You   \n",
       "4          0.000105    0    0.1070    -7.537     0  New Songs for You   \n",
       "\n",
       "                  song id  song name  speechiness    tempo  time_signature  \\\n",
       "0  3XmKQDhplvk0wtPMuHOTHL  Frostbite        0.195  124.994               4   \n",
       "1  544FLIfmISCEEvPaU0Jn8w      Tonka        0.309  139.976               4   \n",
       "2  3qglYeMgK0rWFD2gcSojUw    Cocaine        0.182   85.989               4   \n",
       "3  4aR1EuT9zTZLIo2RnkhFpf     Loaded        0.248  109.964               4   \n",
       "4  2pCD1kCkSXHfM1rTzsIKgd  No Defeat        0.342  155.063               4   \n",
       "\n",
       "   valence  \n",
       "0    0.573  \n",
       "1    0.450  \n",
       "2    0.211  \n",
       "3    0.303  \n",
       "4    0.324  "
      ]
     },
     "execution_count": 5,
     "metadata": {},
     "output_type": "execute_result"
    }
   ],
   "source": [
    "# #create dictionary of data to insert into our DataFrame.\n",
    "# d = {'song name': song_names, 'playlist':playlist_s, 'song id': song_ids,'duration':duration, 'instrumentalness':instrumentalness, 'mode':mode,'time_signature':time_signature, 'artist':artists, 'danceability': danceability, 'key':key, 'energy':energy, 'mode':mode, 'speechiness':speechiness, 'loudness':loudness, 'acousticness':acousticness, 'liveness':liveness, 'tempo':tempo, 'valence':valence}\n",
    "\n",
    "# #create DataFrame\n",
    "# df = pd.DataFrame(data=d)\n",
    "# df.head()"
   ]
  },
  {
   "cell_type": "markdown",
   "metadata": {
    "colab_type": "text",
    "id": "8i73n5Yzm6Nm"
   },
   "source": [
    "**Getting file from local environment**"
   ]
  },
  {
   "cell_type": "markdown",
   "metadata": {
    "colab_type": "text",
    "id": "Mlqb436_BYYO"
   },
   "source": [
    "Because the above data can only be retrieved with user credentials, we packaged it in a csv file that can be accessed locally."
   ]
  },
  {
   "cell_type": "code",
   "execution_count": 6,
   "metadata": {
    "colab": {
     "autoexec": {
      "startup": false,
      "wait_interval": 0
     },
     "base_uri": "https://localhost:8080/",
     "height": 859
    },
    "colab_type": "code",
    "collapsed": true,
    "executionInfo": {
     "elapsed": 321,
     "status": "error",
     "timestamp": 1525805306153,
     "user": {
      "displayName": "Zachary Goldstein",
      "photoUrl": "https://lh3.googleusercontent.com/a/default-user=s128",
      "userId": "101517250061806100921"
     },
     "user_tz": 240
    },
    "id": "ZiCAiwn5lGws",
    "outputId": "0fc17ab2-ca00-4520-8ed4-233e39726d98"
   },
   "outputs": [],
   "source": [
    "df = pd.read_csv('skrt.csv',index_col=0)"
   ]
  },
  {
   "cell_type": "markdown",
   "metadata": {
    "colab_type": "text",
    "id": "MYD8D4KT-UNN"
   },
   "source": [
    "## Data Cleaning and Processing"
   ]
  },
  {
   "cell_type": "markdown",
   "metadata": {
    "colab_type": "text",
    "id": "AtOW5TzfB9Ik"
   },
   "source": [
    "In order to easily ensure model fairness, we limit the dataset to contain an equal number of songs in the user's playlists and not in the user's playlists. We also drop duplicates based on identical song features."
   ]
  },
  {
   "cell_type": "code",
   "execution_count": 7,
   "metadata": {
    "colab": {
     "autoexec": {
      "startup": false,
      "wait_interval": 0
     }
    },
    "colab_type": "code",
    "id": "oJCQbZmh-SQ5"
   },
   "outputs": [
    {
     "data": {
      "text/html": [
       "<div>\n",
       "<style scoped>\n",
       "    .dataframe tbody tr th:only-of-type {\n",
       "        vertical-align: middle;\n",
       "    }\n",
       "\n",
       "    .dataframe tbody tr th {\n",
       "        vertical-align: top;\n",
       "    }\n",
       "\n",
       "    .dataframe thead th {\n",
       "        text-align: right;\n",
       "    }\n",
       "</style>\n",
       "<table border=\"1\" class=\"dataframe\">\n",
       "  <thead>\n",
       "    <tr style=\"text-align: right;\">\n",
       "      <th></th>\n",
       "      <th>acousticness</th>\n",
       "      <th>artist</th>\n",
       "      <th>danceability</th>\n",
       "      <th>duration</th>\n",
       "      <th>energy</th>\n",
       "      <th>instrumentalness</th>\n",
       "      <th>key</th>\n",
       "      <th>liveness</th>\n",
       "      <th>loudness</th>\n",
       "      <th>mode</th>\n",
       "      <th>playlist</th>\n",
       "      <th>song id</th>\n",
       "      <th>song name</th>\n",
       "      <th>speechiness</th>\n",
       "      <th>tempo</th>\n",
       "      <th>time_signature</th>\n",
       "      <th>valence</th>\n",
       "    </tr>\n",
       "  </thead>\n",
       "  <tbody>\n",
       "    <tr>\n",
       "      <th>0</th>\n",
       "      <td>0.986</td>\n",
       "      <td>Eddie Henderson</td>\n",
       "      <td>0.382</td>\n",
       "      <td>424243</td>\n",
       "      <td>0.1580</td>\n",
       "      <td>0.8230</td>\n",
       "      <td>10</td>\n",
       "      <td>0.1270</td>\n",
       "      <td>-12.962</td>\n",
       "      <td>1</td>\n",
       "      <td>hateful</td>\n",
       "      <td>1z2FcRqCR6byfXDSvHq8E4</td>\n",
       "      <td>After You've Gone</td>\n",
       "      <td>0.0466</td>\n",
       "      <td>46.950</td>\n",
       "      <td>4</td>\n",
       "      <td>0.3140</td>\n",
       "    </tr>\n",
       "    <tr>\n",
       "      <th>1</th>\n",
       "      <td>0.803</td>\n",
       "      <td>Joey Alexander</td>\n",
       "      <td>0.698</td>\n",
       "      <td>282387</td>\n",
       "      <td>0.2140</td>\n",
       "      <td>0.8930</td>\n",
       "      <td>7</td>\n",
       "      <td>0.1120</td>\n",
       "      <td>-15.785</td>\n",
       "      <td>1</td>\n",
       "      <td>hateful</td>\n",
       "      <td>6vZ8PZZy7ljlQEgCPSZTAM</td>\n",
       "      <td>Draw Me Nearer</td>\n",
       "      <td>0.0378</td>\n",
       "      <td>121.769</td>\n",
       "      <td>4</td>\n",
       "      <td>0.1720</td>\n",
       "    </tr>\n",
       "    <tr>\n",
       "      <th>2</th>\n",
       "      <td>0.786</td>\n",
       "      <td>Emil Brandqvist Trio</td>\n",
       "      <td>0.446</td>\n",
       "      <td>258227</td>\n",
       "      <td>0.1880</td>\n",
       "      <td>0.0916</td>\n",
       "      <td>7</td>\n",
       "      <td>0.1040</td>\n",
       "      <td>-17.215</td>\n",
       "      <td>0</td>\n",
       "      <td>hateful</td>\n",
       "      <td>4Hus6AQNHezUdbBKuo1aE8</td>\n",
       "      <td>I Miss You</td>\n",
       "      <td>0.0303</td>\n",
       "      <td>107.147</td>\n",
       "      <td>4</td>\n",
       "      <td>0.0988</td>\n",
       "    </tr>\n",
       "    <tr>\n",
       "      <th>3</th>\n",
       "      <td>0.897</td>\n",
       "      <td>Renee Rosnes</td>\n",
       "      <td>0.487</td>\n",
       "      <td>440513</td>\n",
       "      <td>0.2590</td>\n",
       "      <td>0.7780</td>\n",
       "      <td>2</td>\n",
       "      <td>0.0957</td>\n",
       "      <td>-12.391</td>\n",
       "      <td>0</td>\n",
       "      <td>hateful</td>\n",
       "      <td>4gCaFMkA1CERmgy1ny9fhy</td>\n",
       "      <td>The Winter of My Discontent</td>\n",
       "      <td>0.0386</td>\n",
       "      <td>111.218</td>\n",
       "      <td>4</td>\n",
       "      <td>0.1080</td>\n",
       "    </tr>\n",
       "    <tr>\n",
       "      <th>4</th>\n",
       "      <td>0.797</td>\n",
       "      <td>Tommy Flanagan</td>\n",
       "      <td>0.437</td>\n",
       "      <td>302240</td>\n",
       "      <td>0.0375</td>\n",
       "      <td>0.6920</td>\n",
       "      <td>10</td>\n",
       "      <td>0.1140</td>\n",
       "      <td>-28.282</td>\n",
       "      <td>0</td>\n",
       "      <td>hateful</td>\n",
       "      <td>0D5PNTs1HSYe2nHlHulJQw</td>\n",
       "      <td>Naima</td>\n",
       "      <td>0.0403</td>\n",
       "      <td>117.153</td>\n",
       "      <td>4</td>\n",
       "      <td>0.1260</td>\n",
       "    </tr>\n",
       "  </tbody>\n",
       "</table>\n",
       "</div>"
      ],
      "text/plain": [
       "   acousticness                artist  danceability  duration  energy  \\\n",
       "0         0.986       Eddie Henderson         0.382    424243  0.1580   \n",
       "1         0.803        Joey Alexander         0.698    282387  0.2140   \n",
       "2         0.786  Emil Brandqvist Trio         0.446    258227  0.1880   \n",
       "3         0.897          Renee Rosnes         0.487    440513  0.2590   \n",
       "4         0.797        Tommy Flanagan         0.437    302240  0.0375   \n",
       "\n",
       "   instrumentalness  key  liveness  loudness  mode playlist  \\\n",
       "0            0.8230   10    0.1270   -12.962     1  hateful   \n",
       "1            0.8930    7    0.1120   -15.785     1  hateful   \n",
       "2            0.0916    7    0.1040   -17.215     0  hateful   \n",
       "3            0.7780    2    0.0957   -12.391     0  hateful   \n",
       "4            0.6920   10    0.1140   -28.282     0  hateful   \n",
       "\n",
       "                  song id                    song name  speechiness    tempo  \\\n",
       "0  1z2FcRqCR6byfXDSvHq8E4            After You've Gone       0.0466   46.950   \n",
       "1  6vZ8PZZy7ljlQEgCPSZTAM               Draw Me Nearer       0.0378  121.769   \n",
       "2  4Hus6AQNHezUdbBKuo1aE8                   I Miss You       0.0303  107.147   \n",
       "3  4gCaFMkA1CERmgy1ny9fhy  The Winter of My Discontent       0.0386  111.218   \n",
       "4  0D5PNTs1HSYe2nHlHulJQw                        Naima       0.0403  117.153   \n",
       "\n",
       "   time_signature  valence  \n",
       "0               4   0.3140  \n",
       "1               4   0.1720  \n",
       "2               4   0.0988  \n",
       "3               4   0.1080  \n",
       "4               4   0.1260  "
      ]
     },
     "execution_count": 7,
     "metadata": {},
     "output_type": "execute_result"
    }
   ],
   "source": [
    "subset = list(df.columns)\n",
    "subset.remove('playlist')\n",
    "subset.remove('song id')\n",
    "df = df.drop_duplicates(subset = subset)\n",
    "df.head()"
   ]
  },
  {
   "cell_type": "code",
   "execution_count": 8,
   "metadata": {
    "colab": {
     "autoexec": {
      "startup": false,
      "wait_interval": 0
     },
     "base_uri": "https://localhost:8080/",
     "height": 69
    },
    "colab_type": "code",
    "executionInfo": {
     "elapsed": 429,
     "status": "ok",
     "timestamp": 1525717466108,
     "user": {
      "displayName": "Zachary Goldstein",
      "photoUrl": "https://lh3.googleusercontent.com/a/default-user=s128",
      "userId": "101517250061806100921"
     },
     "user_tz": 240
    },
    "id": "toTomWztzo_H",
    "outputId": "31b4ead2-b3e3-496b-80bd-2b39c9132aec"
   },
   "outputs": [
    {
     "data": {
      "text/plain": [
       "1    1711\n",
       "0    1711\n",
       "Name: Good, dtype: int64"
      ]
     },
     "execution_count": 8,
     "metadata": {},
     "output_type": "execute_result"
    }
   ],
   "source": [
    "df['Good']=df['playlist'].apply(lambda s: 1 if s != 'hateful' else 0)\n",
    "df = df.sort_values(by='Good')\n",
    "df = df.head(1711*2)\n",
    "df['Good'].value_counts()"
   ]
  },
  {
   "cell_type": "code",
   "execution_count": 9,
   "metadata": {
    "colab": {
     "autoexec": {
      "startup": false,
      "wait_interval": 0
     },
     "base_uri": "https://localhost:8080/",
     "height": 119
    },
    "colab_type": "code",
    "executionInfo": {
     "elapsed": 319,
     "status": "ok",
     "timestamp": 1525716614241,
     "user": {
      "displayName": "Zuhayer Quazi",
      "photoUrl": "//lh5.googleusercontent.com/-NTmAkTwFEkE/AAAAAAAAAAI/AAAAAAAAACg/HAqyj7Qaruk/s50-c-k-no/photo.jpg",
      "userId": "105237576177412520274"
     },
     "user_tz": 240
    },
    "id": "DU6nJMPlmTtq",
    "outputId": "6a26ba58-e20c-41e5-fe94-dfd75d347b79"
   },
   "outputs": [
    {
     "name": "stdout",
     "output_type": "stream",
     "text": [
      "(3422, 18)\n"
     ]
    },
    {
     "data": {
      "text/plain": [
       "Index(['acousticness', 'artist', 'danceability', 'duration', 'energy',\n",
       "       'instrumentalness', 'key', 'liveness', 'loudness', 'mode', 'playlist',\n",
       "       'song id', 'song name', 'speechiness', 'tempo', 'time_signature',\n",
       "       'valence', 'Good'],\n",
       "      dtype='object')"
      ]
     },
     "execution_count": 9,
     "metadata": {},
     "output_type": "execute_result"
    }
   ],
   "source": [
    "print(df.shape)\n",
    "df.columns"
   ]
  },
  {
   "cell_type": "markdown",
   "metadata": {
    "colab_type": "text",
    "id": "Xgsj96IpyyOF"
   },
   "source": [
    "## Exploration and Visualization"
   ]
  },
  {
   "cell_type": "markdown",
   "metadata": {
    "colab_type": "text",
    "id": "zFJzQWF0D4be"
   },
   "source": [
    "We explored various numerical features of the data to visualize possible \n",
    "differences between songs labeled 'Good' and 'Bad'."
   ]
  },
  {
   "cell_type": "markdown",
   "metadata": {
    "colab_type": "text",
    "id": "MYyeX0ZF2VnV"
   },
   "source": [
    "### Tempo"
   ]
  },
  {
   "cell_type": "code",
   "execution_count": 10,
   "metadata": {
    "colab": {
     "autoexec": {
      "startup": false,
      "wait_interval": 0
     },
     "base_uri": "https://localhost:8080/",
     "height": 200
    },
    "colab_type": "code",
    "collapsed": true,
    "executionInfo": {
     "elapsed": 577,
     "status": "error",
     "timestamp": 1525893677753,
     "user": {
      "displayName": "Zachary Goldstein",
      "photoUrl": "https://lh3.googleusercontent.com/a/default-user=s128",
      "userId": "101517250061806100921"
     },
     "user_tz": 240
    },
    "id": "2cw59aay361E",
    "outputId": "c6df366b-496c-4c2f-bc5d-0b484f86ad82"
   },
   "outputs": [],
   "source": [
    "plt.style.use(\"ggplot\")  # Set Matplotlib style so plots look nice\n",
    "dfPlot = df.copy() # Create copy of dataset which we can use for plotting\n",
    "dfPlot['Good']=dfPlot['Good'].apply(lambda x: \"Good\" if x==1 else \"Bad\") # Change 0/1 to Bad/Good"
   ]
  },
  {
   "cell_type": "code",
   "execution_count": 11,
   "metadata": {
    "colab": {
     "autoexec": {
      "startup": false,
      "wait_interval": 0
     },
     "base_uri": "https://localhost:8080/",
     "height": 235
    },
    "colab_type": "code",
    "executionInfo": {
     "elapsed": 276,
     "status": "error",
     "timestamp": 1525805752442,
     "user": {
      "displayName": "Zachary Goldstein",
      "photoUrl": "https://lh3.googleusercontent.com/a/default-user=s128",
      "userId": "101517250061806100921"
     },
     "user_tz": 240
    },
    "id": "YwpTQ1UCy1tz",
    "outputId": "b972595b-19d9-481c-a1ce-5d3cb8c1dd44"
   },
   "outputs": [
    {
     "data": {
      "image/png": "[encoded data removed]",
      "text/plain": [
       "<matplotlib.figure.Figure at 0x1a0ef89278>"
      ]
     },
     "metadata": {},
     "output_type": "display_data"
    }
   ],
   "source": [
    "dfPlot.boxplot(column='tempo',by='Good')\n",
    "plt.ylabel(\"Tempo\")\n",
    "plt.xlabel(\"\")\n",
    "plt.title(\"Tempo of Bad vs. Good Songs\")\n",
    "plt.suptitle(\"\") # removing default title\n",
    "plt.show()"
   ]
  },
  {
   "cell_type": "markdown",
   "metadata": {
    "colab_type": "text",
    "id": "yeNBszTy2XMb"
   },
   "source": [
    "### Mode"
   ]
  },
  {
   "cell_type": "code",
   "execution_count": 12,
   "metadata": {
    "colab": {
     "autoexec": {
      "startup": false,
      "wait_interval": 0
     }
    },
    "colab_type": "code",
    "collapsed": true,
    "id": "mgob6k1j2Z9O"
   },
   "outputs": [],
   "source": [
    "dfPlot['mode'] = dfPlot['mode'].apply(lambda x: \"Major\" if x==1 else \"Minor\") # Convert 0,1 to Minor,Major"
   ]
  },
  {
   "cell_type": "code",
   "execution_count": 13,
   "metadata": {
    "colab": {
     "autoexec": {
      "startup": false,
      "wait_interval": 0
     },
     "base_uri": "https://localhost:8080/",
     "height": 138
    },
    "colab_type": "code",
    "executionInfo": {
     "elapsed": 286,
     "status": "ok",
     "timestamp": 1525720226638,
     "user": {
      "displayName": "Zachary Goldstein",
      "photoUrl": "https://lh3.googleusercontent.com/a/default-user=s128",
      "userId": "101517250061806100921"
     },
     "user_tz": 240
    },
    "id": "dAEH-tif3l2e",
    "outputId": "6317887e-09f3-491b-f653-9fa761c8cb85"
   },
   "outputs": [
    {
     "data": {
      "text/html": [
       "<div>\n",
       "<style scoped>\n",
       "    .dataframe tbody tr th:only-of-type {\n",
       "        vertical-align: middle;\n",
       "    }\n",
       "\n",
       "    .dataframe tbody tr th {\n",
       "        vertical-align: top;\n",
       "    }\n",
       "\n",
       "    .dataframe thead th {\n",
       "        text-align: right;\n",
       "    }\n",
       "</style>\n",
       "<table border=\"1\" class=\"dataframe\">\n",
       "  <thead>\n",
       "    <tr style=\"text-align: right;\">\n",
       "      <th>Goodness</th>\n",
       "      <th>Bad</th>\n",
       "      <th>Good</th>\n",
       "    </tr>\n",
       "    <tr>\n",
       "      <th>mode</th>\n",
       "      <th></th>\n",
       "      <th></th>\n",
       "    </tr>\n",
       "  </thead>\n",
       "  <tbody>\n",
       "    <tr>\n",
       "      <th>Major</th>\n",
       "      <td>1028</td>\n",
       "      <td>1089</td>\n",
       "    </tr>\n",
       "    <tr>\n",
       "      <th>Minor</th>\n",
       "      <td>683</td>\n",
       "      <td>622</td>\n",
       "    </tr>\n",
       "  </tbody>\n",
       "</table>\n",
       "</div>"
      ],
      "text/plain": [
       "Goodness   Bad  Good\n",
       "mode                \n",
       "Major     1028  1089\n",
       "Minor      683   622"
      ]
     },
     "execution_count": 13,
     "metadata": {},
     "output_type": "execute_result"
    }
   ],
   "source": [
    "dfPlot['Goodness']=dfPlot['Good']\n",
    "dfPlot.groupby(['mode','Goodness']).size().unstack() # Create frequency table grouped by Mode + Goodness"
   ]
  },
  {
   "cell_type": "markdown",
   "metadata": {
    "colab_type": "text",
    "id": "vOajax2E6irE"
   },
   "source": [
    "### Boxplots"
   ]
  },
  {
   "cell_type": "code",
   "execution_count": 14,
   "metadata": {
    "colab": {
     "autoexec": {
      "startup": false,
      "wait_interval": 0
     }
    },
    "colab_type": "code",
    "collapsed": true,
    "id": "1gZqDuXD59AH"
   },
   "outputs": [],
   "source": [
    "# Returns a boxplot showing the relationship between a variable (var) and Goodness/Badness of songs in the pandas dataframe (df)\n",
    "def boxplot(df,var):\n",
    "    df.boxplot(column=var,by='Good')\n",
    "    plt.ylabel(var)\n",
    "    plt.xlabel(\"\")\n",
    "    plt.title(var.capitalize() +\" of Bad vs. Good Songs\")\n",
    "    plt.suptitle(\"\")\n",
    "    return plt.show()"
   ]
  },
  {
   "cell_type": "code",
   "execution_count": 15,
   "metadata": {
    "colab": {
     "autoexec": {
      "startup": false,
      "wait_interval": 0
     },
     "base_uri": "https://localhost:8080/",
     "height": 3472
    },
    "colab_type": "code",
    "executionInfo": {
     "elapsed": 2436,
     "status": "ok",
     "timestamp": 1525718837626,
     "user": {
      "displayName": "Zachary Goldstein",
      "photoUrl": "https://lh3.googleusercontent.com/a/default-user=s128",
      "userId": "101517250061806100921"
     },
     "user_tz": 240
    },
    "id": "dGu3kvxc6lEC",
    "outputId": "377d8985-bfae-44ba-b90e-3345c4dd5a2a"
   },
   "outputs": [
    {
     "data": {
      "image/png": "[encoded data removed]",
      "text/plain": [
       "<matplotlib.figure.Figure at 0x1a0ed83780>"
      ]
     },
     "metadata": {},
     "output_type": "display_data"
    },
    {
     "data": {
      "image/png": "[encoded data removed]",
      "text/plain": [
       "<matplotlib.figure.Figure at 0x1a0eaa4898>"
      ]
     },
     "metadata": {},
     "output_type": "display_data"
    },
    {
     "data": {
      "image/png": "[encoded data removed]",
      "text/plain": [
       "<matplotlib.figure.Figure at 0x1a0eb7eda0>"
      ]
     },
     "metadata": {},
     "output_type": "display_data"
    },
    {
     "data": {
      "image/png": "[encoded data removed]",
      "text/plain": [
       "<matplotlib.figure.Figure at 0x1a0f132ac8>"
      ]
     },
     "metadata": {},
     "output_type": "display_data"
    },
    {
     "data": {
      "image/png": "[encoded data removed]",
      "text/plain": [
       "<matplotlib.figure.Figure at 0x1a0eb49438>"
      ]
     },
     "metadata": {},
     "output_type": "display_data"
    },
    {
     "data": {
      "image/png": "[encoded data removed]",
      "text/plain": [
       "<matplotlib.figure.Figure at 0x1a0ef65198>"
      ]
     },
     "metadata": {},
     "output_type": "display_data"
    },
    {
     "data": {
      "image/png": "[encoded data removed]",
      "text/plain": [
       "<matplotlib.figure.Figure at 0x1a0ec9f828>"
      ]
     },
     "metadata": {},
     "output_type": "display_data"
    },
    {
     "data": {
      "image/png": "[encoded data removed]",
      "text/plain": [
       "<matplotlib.figure.Figure at 0x1a0eeae4a8>"
      ]
     },
     "metadata": {},
     "output_type": "display_data"
    },
    {
     "data": {
      "image/png": "[encoded data removed]",
      "text/plain": [
       "<matplotlib.figure.Figure at 0x1a0ea77f60>"
      ]
     },
     "metadata": {},
     "output_type": "display_data"
    },
    {
     "data": {
      "image/png": "[encoded data removed]",
      "text/plain": [
       "<matplotlib.figure.Figure at 0x1a1bfd2550>"
      ]
     },
     "metadata": {},
     "output_type": "display_data"
    }
   ],
   "source": [
    "vars = ['acousticness','danceability','duration','energy','instrumentalness','liveness','loudness','speechiness','tempo','valence']\n",
    "for var in vars:\n",
    "    boxplot(dfPlot,var)"
   ]
  },
  {
   "cell_type": "markdown",
   "metadata": {
    "colab_type": "text",
    "id": "3OnWWXmrMqxm"
   },
   "source": [
    "\n",
    "## Clustering:\n",
    "\n",
    "We chose to use K-means clustering to approximate the playlists and attempt to assign every song to a playlist. For this, we used all quantitative variables. We chose our initial k as the number of user playlists.\n",
    "\n",
    "\n",
    "\n",
    "\n",
    "\n"
   ]
  },
  {
   "cell_type": "code",
   "execution_count": 31,
   "metadata": {
    "colab": {
     "autoexec": {
      "startup": false,
      "wait_interval": 0
     },
     "base_uri": "https://localhost:8080/",
     "height": 198
    },
    "colab_type": "code",
    "executionInfo": {
     "elapsed": 321,
     "status": "ok",
     "timestamp": 1525719285127,
     "user": {
      "displayName": "Zachary Goldstein",
      "photoUrl": "https://lh3.googleusercontent.com/a/default-user=s128",
      "userId": "101517250061806100921"
     },
     "user_tz": 240
    },
    "id": "rP0GrooxdU4r",
    "outputId": "408d34c9-c756-4fe8-c7c2-4f463f0821df"
   },
   "outputs": [
    {
     "data": {
      "text/html": [
       "<div>\n",
       "<style scoped>\n",
       "    .dataframe tbody tr th:only-of-type {\n",
       "        vertical-align: middle;\n",
       "    }\n",
       "\n",
       "    .dataframe tbody tr th {\n",
       "        vertical-align: top;\n",
       "    }\n",
       "\n",
       "    .dataframe thead th {\n",
       "        text-align: right;\n",
       "    }\n",
       "</style>\n",
       "<table border=\"1\" class=\"dataframe\">\n",
       "  <thead>\n",
       "    <tr style=\"text-align: right;\">\n",
       "      <th></th>\n",
       "      <th>acousticness</th>\n",
       "      <th>danceability</th>\n",
       "      <th>energy</th>\n",
       "      <th>liveness</th>\n",
       "      <th>speechiness</th>\n",
       "      <th>tempo</th>\n",
       "      <th>valence</th>\n",
       "      <th>duration</th>\n",
       "      <th>instrumentalness</th>\n",
       "      <th>loudness</th>\n",
       "    </tr>\n",
       "  </thead>\n",
       "  <tbody>\n",
       "    <tr>\n",
       "      <th>1711</th>\n",
       "      <td>0.022400</td>\n",
       "      <td>0.787</td>\n",
       "      <td>0.485</td>\n",
       "      <td>0.2460</td>\n",
       "      <td>0.1140</td>\n",
       "      <td>97.987</td>\n",
       "      <td>0.537</td>\n",
       "      <td>273010</td>\n",
       "      <td>0.000000</td>\n",
       "      <td>-8.299</td>\n",
       "    </tr>\n",
       "    <tr>\n",
       "      <th>1712</th>\n",
       "      <td>0.102000</td>\n",
       "      <td>0.666</td>\n",
       "      <td>0.673</td>\n",
       "      <td>0.0746</td>\n",
       "      <td>0.1540</td>\n",
       "      <td>117.942</td>\n",
       "      <td>0.191</td>\n",
       "      <td>240680</td>\n",
       "      <td>0.000057</td>\n",
       "      <td>-9.213</td>\n",
       "    </tr>\n",
       "    <tr>\n",
       "      <th>1713</th>\n",
       "      <td>0.006420</td>\n",
       "      <td>0.544</td>\n",
       "      <td>0.773</td>\n",
       "      <td>0.1980</td>\n",
       "      <td>0.0351</td>\n",
       "      <td>174.068</td>\n",
       "      <td>0.504</td>\n",
       "      <td>193827</td>\n",
       "      <td>0.000000</td>\n",
       "      <td>-4.318</td>\n",
       "    </tr>\n",
       "    <tr>\n",
       "      <th>1714</th>\n",
       "      <td>0.017200</td>\n",
       "      <td>0.470</td>\n",
       "      <td>0.878</td>\n",
       "      <td>0.2350</td>\n",
       "      <td>0.0429</td>\n",
       "      <td>114.986</td>\n",
       "      <td>0.322</td>\n",
       "      <td>233240</td>\n",
       "      <td>0.054000</td>\n",
       "      <td>-3.391</td>\n",
       "    </tr>\n",
       "    <tr>\n",
       "      <th>1715</th>\n",
       "      <td>0.000194</td>\n",
       "      <td>0.520</td>\n",
       "      <td>0.882</td>\n",
       "      <td>0.0909</td>\n",
       "      <td>0.0399</td>\n",
       "      <td>128.003</td>\n",
       "      <td>0.366</td>\n",
       "      <td>294867</td>\n",
       "      <td>0.000003</td>\n",
       "      <td>-4.474</td>\n",
       "    </tr>\n",
       "  </tbody>\n",
       "</table>\n",
       "</div>"
      ],
      "text/plain": [
       "      acousticness  danceability  energy  liveness  speechiness    tempo  \\\n",
       "1711      0.022400         0.787   0.485    0.2460       0.1140   97.987   \n",
       "1712      0.102000         0.666   0.673    0.0746       0.1540  117.942   \n",
       "1713      0.006420         0.544   0.773    0.1980       0.0351  174.068   \n",
       "1714      0.017200         0.470   0.878    0.2350       0.0429  114.986   \n",
       "1715      0.000194         0.520   0.882    0.0909       0.0399  128.003   \n",
       "\n",
       "      valence  duration  instrumentalness  loudness  \n",
       "1711    0.537    273010          0.000000    -8.299  \n",
       "1712    0.191    240680          0.000057    -9.213  \n",
       "1713    0.504    193827          0.000000    -4.318  \n",
       "1714    0.322    233240          0.054000    -3.391  \n",
       "1715    0.366    294867          0.000003    -4.474  "
      ]
     },
     "execution_count": 31,
     "metadata": {},
     "output_type": "execute_result"
    }
   ],
   "source": [
    "quantVariables = ['acousticness','danceability','energy','liveness','speechiness','tempo','valence','duration','instrumentalness','loudness']\n",
    "df2 = df.copy().dropna()\n",
    "df2 = df2.reset_index(drop=True)\n",
    "df2 = df2[df2.playlist!='hateful']\n",
    "X = df2[quantVariables]\n",
    "X.head()"
   ]
  },
  {
   "cell_type": "markdown",
   "metadata": {
    "colab_type": "text",
    "id": "8suUe1nB--uX"
   },
   "source": [
    "### Normalizing Features"
   ]
  },
  {
   "cell_type": "markdown",
   "metadata": {
    "colab_type": "text",
    "id": "M9m4_lVaEfJN"
   },
   "source": [
    "We converted features to their Z-Scores by subtracting the mean and dividing by the standard deviation of each feature"
   ]
  },
  {
   "cell_type": "code",
   "execution_count": 32,
   "metadata": {
    "colab": {
     "autoexec": {
      "startup": false,
      "wait_interval": 0
     },
     "base_uri": "https://localhost:8080/",
     "height": 198
    },
    "colab_type": "code",
    "executionInfo": {
     "elapsed": 276,
     "status": "ok",
     "timestamp": 1525719287372,
     "user": {
      "displayName": "Zachary Goldstein",
      "photoUrl": "https://lh3.googleusercontent.com/a/default-user=s128",
      "userId": "101517250061806100921"
     },
     "user_tz": 240
    },
    "id": "jK0lq9FgndPZ",
    "outputId": "c84dc7d1-feb5-4911-b10e-360d27754ba6"
   },
   "outputs": [
    {
     "data": {
      "text/html": [
       "<div>\n",
       "<style scoped>\n",
       "    .dataframe tbody tr th:only-of-type {\n",
       "        vertical-align: middle;\n",
       "    }\n",
       "\n",
       "    .dataframe tbody tr th {\n",
       "        vertical-align: top;\n",
       "    }\n",
       "\n",
       "    .dataframe thead th {\n",
       "        text-align: right;\n",
       "    }\n",
       "</style>\n",
       "<table border=\"1\" class=\"dataframe\">\n",
       "  <thead>\n",
       "    <tr style=\"text-align: right;\">\n",
       "      <th></th>\n",
       "      <th>acousticness</th>\n",
       "      <th>danceability</th>\n",
       "      <th>energy</th>\n",
       "      <th>liveness</th>\n",
       "      <th>speechiness</th>\n",
       "      <th>tempo</th>\n",
       "      <th>valence</th>\n",
       "      <th>duration</th>\n",
       "      <th>instrumentalness</th>\n",
       "      <th>loudness</th>\n",
       "    </tr>\n",
       "  </thead>\n",
       "  <tbody>\n",
       "    <tr>\n",
       "      <th>1711</th>\n",
       "      <td>-0.601324</td>\n",
       "      <td>0.747775</td>\n",
       "      <td>-1.182311</td>\n",
       "      <td>0.375651</td>\n",
       "      <td>-0.136597</td>\n",
       "      <td>-0.864507</td>\n",
       "      <td>0.289628</td>\n",
       "      <td>1.087816</td>\n",
       "      <td>-0.238740</td>\n",
       "      <td>-1.071155</td>\n",
       "    </tr>\n",
       "    <tr>\n",
       "      <th>1712</th>\n",
       "      <td>-0.190281</td>\n",
       "      <td>-0.103583</td>\n",
       "      <td>-0.064963</td>\n",
       "      <td>-0.813098</td>\n",
       "      <td>0.222738</td>\n",
       "      <td>-0.130106</td>\n",
       "      <td>-1.315645</td>\n",
       "      <td>0.359275</td>\n",
       "      <td>-0.238345</td>\n",
       "      <td>-1.485328</td>\n",
       "    </tr>\n",
       "    <tr>\n",
       "      <th>1713</th>\n",
       "      <td>-0.683842</td>\n",
       "      <td>-0.961977</td>\n",
       "      <td>0.529371</td>\n",
       "      <td>0.042746</td>\n",
       "      <td>-0.845385</td>\n",
       "      <td>1.935492</td>\n",
       "      <td>0.136524</td>\n",
       "      <td>-0.696534</td>\n",
       "      <td>-0.238740</td>\n",
       "      <td>0.732811</td>\n",
       "    </tr>\n",
       "    <tr>\n",
       "      <th>1714</th>\n",
       "      <td>-0.628176</td>\n",
       "      <td>-1.482643</td>\n",
       "      <td>1.153422</td>\n",
       "      <td>0.299360</td>\n",
       "      <td>-0.775315</td>\n",
       "      <td>-0.238895</td>\n",
       "      <td>-0.707869</td>\n",
       "      <td>0.191619</td>\n",
       "      <td>0.132999</td>\n",
       "      <td>1.152875</td>\n",
       "    </tr>\n",
       "    <tr>\n",
       "      <th>1715</th>\n",
       "      <td>-0.715992</td>\n",
       "      <td>-1.130842</td>\n",
       "      <td>1.177195</td>\n",
       "      <td>-0.700049</td>\n",
       "      <td>-0.802265</td>\n",
       "      <td>0.240168</td>\n",
       "      <td>-0.503730</td>\n",
       "      <td>1.580353</td>\n",
       "      <td>-0.238720</td>\n",
       "      <td>0.662120</td>\n",
       "    </tr>\n",
       "  </tbody>\n",
       "</table>\n",
       "</div>"
      ],
      "text/plain": [
       "      acousticness  danceability    energy  liveness  speechiness     tempo  \\\n",
       "1711     -0.601324      0.747775 -1.182311  0.375651    -0.136597 -0.864507   \n",
       "1712     -0.190281     -0.103583 -0.064963 -0.813098     0.222738 -0.130106   \n",
       "1713     -0.683842     -0.961977  0.529371  0.042746    -0.845385  1.935492   \n",
       "1714     -0.628176     -1.482643  1.153422  0.299360    -0.775315 -0.238895   \n",
       "1715     -0.715992     -1.130842  1.177195 -0.700049    -0.802265  0.240168   \n",
       "\n",
       "       valence  duration  instrumentalness  loudness  \n",
       "1711  0.289628  1.087816         -0.238740 -1.071155  \n",
       "1712 -1.315645  0.359275         -0.238345 -1.485328  \n",
       "1713  0.136524 -0.696534         -0.238740  0.732811  \n",
       "1714 -0.707869  0.191619          0.132999  1.152875  \n",
       "1715 -0.503730  1.580353         -0.238720  0.662120  "
      ]
     },
     "execution_count": 32,
     "metadata": {},
     "output_type": "execute_result"
    }
   ],
   "source": [
    "X = X.dropna()\n",
    "Xnorm= X.copy()\n",
    "for column in Xnorm.columns:\n",
    "    colMean = Xnorm[column].mean()\n",
    "    colSD = Xnorm[column].std()\n",
    "    Xnorm[column]=(Xnorm[column]-colMean)/colSD\n",
    "Xnorm.head()"
   ]
  },
  {
   "cell_type": "code",
   "execution_count": 33,
   "metadata": {
    "colab": {
     "autoexec": {
      "startup": false,
      "wait_interval": 0
     },
     "base_uri": "https://localhost:8080/",
     "height": 403
    },
    "colab_type": "code",
    "executionInfo": {
     "elapsed": 471,
     "status": "ok",
     "timestamp": 1525721123162,
     "user": {
      "displayName": "Zachary Goldstein",
      "photoUrl": "https://lh3.googleusercontent.com/a/default-user=s128",
      "userId": "101517250061806100921"
     },
     "user_tz": 240
    },
    "id": "ZdVDiXxZl5Dh",
    "outputId": "54c69223-4cca-4c3e-f96d-fa95fc757707",
    "scrolled": true
   },
   "outputs": [
    {
     "data": {
      "image/png": "[encoded data removed]",
      "text/plain": [
       "<matplotlib.figure.Figure at 0x1a0ef6fef0>"
      ]
     },
     "metadata": {},
     "output_type": "display_data"
    }
   ],
   "source": [
    "Xnorm['danceability'].plot(kind='hist')\n",
    "plt.title(\"Danceability\")\n",
    "plt.xlabel(\"Z-Score\")\n",
    "plt.show()"
   ]
  },
  {
   "cell_type": "code",
   "execution_count": 37,
   "metadata": {
    "colab": {
     "autoexec": {
      "startup": false,
      "wait_interval": 0
     },
     "base_uri": "https://localhost:8080/",
     "height": 364
    },
    "colab_type": "code",
    "executionInfo": {
     "elapsed": 489,
     "status": "ok",
     "timestamp": 1525716629582,
     "user": {
      "displayName": "Zuhayer Quazi",
      "photoUrl": "//lh5.googleusercontent.com/-NTmAkTwFEkE/AAAAAAAAAAI/AAAAAAAAACg/HAqyj7Qaruk/s50-c-k-no/photo.jpg",
      "userId": "105237576177412520274"
     },
     "user_tz": 240
    },
    "id": "6h_TxyezoMcV",
    "outputId": "419c05bb-faa2-4ad1-c17f-31a44be81bac"
   },
   "outputs": [
    {
     "data": {
      "image/png": "[encoded data removed]",
      "text/plain": [
       "<matplotlib.figure.Figure at 0x1a0eb3a278>"
      ]
     },
     "metadata": {},
     "output_type": "display_data"
    }
   ],
   "source": [
    "Xnorm['speechiness'].plot(kind='hist')\n",
    "plt.show()"
   ]
  },
  {
   "cell_type": "markdown",
   "metadata": {
    "colab_type": "text",
    "id": "ksiQgmEr_EIW"
   },
   "source": [
    "### Trying K-Means with different values of K"
   ]
  },
  {
   "cell_type": "markdown",
   "metadata": {
    "colab_type": "text",
    "id": "isNARUAdGfV6"
   },
   "source": [
    "Because the benefit of additional k was less after k > 10, we chose 10 clusters for our final clustering model."
   ]
  },
  {
   "cell_type": "code",
   "execution_count": 38,
   "metadata": {
    "colab": {
     "autoexec": {
      "startup": false,
      "wait_interval": 0
     },
     "base_uri": "https://localhost:8080/",
     "height": 276
    },
    "colab_type": "code",
    "executionInfo": {
     "elapsed": 4339,
     "status": "ok",
     "timestamp": 1525719296512,
     "user": {
      "displayName": "Zachary Goldstein",
      "photoUrl": "https://lh3.googleusercontent.com/a/default-user=s128",
      "userId": "101517250061806100921"
     },
     "user_tz": 240
    },
    "id": "gW3NbL26lu8b",
    "outputId": "c48b224a-0f64-491d-9265-ca9e54e2e528",
    "scrolled": true
   },
   "outputs": [
    {
     "name": "stdout",
     "output_type": "stream",
     "text": [
      "1 17100.0\n",
      "2 14676.5286172\n",
      "3 13112.265376\n",
      "4 11944.6301104\n",
      "5 10972.0263192\n",
      "6 10256.6228051\n",
      "7 9630.77114219\n",
      "8 9286.24630613\n",
      "9 8955.90914325\n",
      "10 8715.36409346\n",
      "11 8460.28565834\n",
      "12 8255.27221367\n",
      "13 8066.18438579\n",
      "14 7871.60852693\n",
      "15 7717.4483855\n"
     ]
    }
   ],
   "source": [
    "dictt2 = dict()\n",
    "n = 16\n",
    "for i in range(1,n):\n",
    "    kmeans = KMeans(n_clusters = i).fit(Xnorm) # fit model to data with i clusters\n",
    "    dictt2[i]=kmeans.inertia_ # squared error\n",
    "    print(i,kmeans.inertia_)"
   ]
  },
  {
   "cell_type": "code",
   "execution_count": 39,
   "metadata": {
    "colab": {
     "autoexec": {
      "startup": false,
      "wait_interval": 0
     },
     "base_uri": "https://localhost:8080/",
     "height": 402
    },
    "colab_type": "code",
    "executionInfo": {
     "elapsed": 438,
     "status": "ok",
     "timestamp": 1525719296997,
     "user": {
      "displayName": "Zachary Goldstein",
      "photoUrl": "https://lh3.googleusercontent.com/a/default-user=s128",
      "userId": "101517250061806100921"
     },
     "user_tz": 240
    },
    "id": "9D39LqcDonuX",
    "outputId": "2147a574-6631-443c-de85-bd339e434db8"
   },
   "outputs": [
    {
     "data": {
      "image/png": "[encoded data removed]",
      "text/plain": [
       "<matplotlib.figure.Figure at 0x1a0ed31cf8>"
      ]
     },
     "metadata": {},
     "output_type": "display_data"
    }
   ],
   "source": [
    "ser2 = pd.Series(dictt2)\n",
    "ser2.plot(kind='line')\n",
    "plt.ylabel(\"Sum of Squared Error\")\n",
    "plt.xlabel(\"k\")\n",
    "plt.title(\"K-Means Results\")\n",
    "plt.show()"
   ]
  },
  {
   "cell_type": "code",
   "execution_count": 40,
   "metadata": {
    "colab": {
     "autoexec": {
      "startup": false,
      "wait_interval": 0
     },
     "base_uri": "https://localhost:8080/",
     "height": 34
    },
    "colab_type": "code",
    "executionInfo": {
     "elapsed": 834,
     "status": "ok",
     "timestamp": 1525716637428,
     "user": {
      "displayName": "Zuhayer Quazi",
      "photoUrl": "//lh5.googleusercontent.com/-NTmAkTwFEkE/AAAAAAAAAAI/AAAAAAAAACg/HAqyj7Qaruk/s50-c-k-no/photo.jpg",
      "userId": "105237576177412520274"
     },
     "user_tz": 240
    },
    "id": "_dxqXMh2k5k8",
    "outputId": "19267dad-cdaf-49dc-b6af-b10f98a7c7fd"
   },
   "outputs": [
    {
     "data": {
      "text/plain": [
       "array([6, 6, 5, ..., 9, 3, 3], dtype=int32)"
      ]
     },
     "execution_count": 40,
     "metadata": {},
     "output_type": "execute_result"
    }
   ],
   "source": [
    "means10 = KMeans(n_clusters = 10,random_state=0).fit(Xnorm)\n",
    "means10.labels_"
   ]
  },
  {
   "cell_type": "markdown",
   "metadata": {
    "colab_type": "text",
    "id": "l1Bak-G0SuGF"
   },
   "source": [
    "### Compare clusters to playlists\n"
   ]
  },
  {
   "cell_type": "markdown",
   "metadata": {
    "colab_type": "text",
    "id": "rMeyeimBES5P"
   },
   "source": [
    "Here, we tried to see if the k-means generated clusters were similar to the user's playlists. However, we found that only a few clusters made up most of the playlists, so there was not a strong similarity between the clusters and playlists."
   ]
  },
  {
   "cell_type": "code",
   "execution_count": 41,
   "metadata": {
    "colab": {
     "autoexec": {
      "startup": false,
      "wait_interval": 0
     },
     "base_uri": "https://localhost:8080/",
     "height": 439
    },
    "colab_type": "code",
    "executionInfo": {
     "elapsed": 317,
     "status": "error",
     "timestamp": 1525716644003,
     "user": {
      "displayName": "Zuhayer Quazi",
      "photoUrl": "//lh5.googleusercontent.com/-NTmAkTwFEkE/AAAAAAAAAAI/AAAAAAAAACg/HAqyj7Qaruk/s50-c-k-no/photo.jpg",
      "userId": "105237576177412520274"
     },
     "user_tz": 240
    },
    "id": "JVvmoKCnRGQ4",
    "outputId": "5f02ee2e-8b5c-4ecb-b0c0-298a38f96625"
   },
   "outputs": [
    {
     "name": "stdout",
     "output_type": "stream",
     "text": [
      "0 GR8 0.153333333333\n",
      "1 Dub 0.449275362319\n",
      "2 goodfeel 0.279279279279\n",
      "3 goodfeel 0.332155477032\n",
      "4 TB 0.175182481752\n",
      "5 goodfeel 0.374407582938\n",
      "6 GR8 0.160427807487\n",
      "7 goodfeel 0.188524590164\n",
      "8 goodfeel 0.339366515837\n",
      "9 goodfeel 0.34693877551\n"
     ]
    }
   ],
   "source": [
    "for clusterLabel in range(10):\n",
    "    clusterSongs = df2['song name'].values[means10.labels_ == clusterLabel] # Selects all song names corresponding to a certain cluster label\n",
    "    clusterPlaylists = df2['playlist'].values[means10.labels_ == clusterLabel] # Selects all playlists corresponding to a certain cluster\n",
    "    topPlaylist = pd.Series(clusterPlaylists).value_counts().head(1).index[0] # Selects the most common playlist for songs in the cluster\n",
    "    topPlaylistProp = pd.Series(clusterPlaylists).value_counts().head(1).values[0] / len(clusterPlaylists) # The proportion of songs in the cluster which are part of top playlist \n",
    "    print(clusterLabel,topPlaylist,topPlaylistProp)\n",
    "  "
   ]
  },
  {
   "cell_type": "code",
   "execution_count": 48,
   "metadata": {
    "colab": {
     "autoexec": {
      "startup": false,
      "wait_interval": 0
     },
     "base_uri": "https://localhost:8080/",
     "height": 833
    },
    "colab_type": "code",
    "executionInfo": {
     "elapsed": 461,
     "status": "ok",
     "timestamp": 1525716648909,
     "user": {
      "displayName": "Zuhayer Quazi",
      "photoUrl": "//lh5.googleusercontent.com/-NTmAkTwFEkE/AAAAAAAAAAI/AAAAAAAAACg/HAqyj7Qaruk/s50-c-k-no/photo.jpg",
      "userId": "105237576177412520274"
     },
     "user_tz": 240
    },
    "id": "TOW8F77JRiga",
    "outputId": "4d708f8b-e35b-4396-96ee-1e330b7f29a7"
   },
   "outputs": [
    {
     "name": "stdout",
     "output_type": "stream",
     "text": [
      "goodfeel \n",
      " \t top cluster: 3 \n",
      " \t cluster prop 0.22169811320754718\n",
      "turnt \n",
      " \t top cluster: 6 \n",
      " \t cluster prop 0.2441860465116279\n",
      "Band Songs \n",
      " \t top cluster: 3 \n",
      " \t cluster prop 0.38095238095238093\n",
      "GR8 \n",
      " \t top cluster: 7 \n",
      " \t cluster prop 0.19902912621359223\n",
      "Dub \n",
      " \t top cluster: 1 \n",
      " \t cluster prop 0.4025974025974026\n",
      "Christmas Hype \n",
      " \t top cluster: 2 \n",
      " \t cluster prop 0.39436619718309857\n",
      "Slower \n",
      " \t top cluster: 2 \n",
      " \t cluster prop 0.3103448275862069\n",
      "boothy \n",
      " \t top cluster: 6 \n",
      " \t cluster prop 0.29545454545454547\n",
      "linear algebra \n",
      " \t top cluster: 8 \n",
      " \t cluster prop 0.23529411764705882\n",
      "Thoughts \n",
      " \t top cluster: 2 \n",
      " \t cluster prop 0.2857142857142857\n",
      "Bangers \n",
      " \t top cluster: 6 \n",
      " \t cluster prop 0.25333333333333335\n",
      "LOL \n",
      " \t top cluster: 6 \n",
      " \t cluster prop 0.17532467532467533\n",
      "enjoy \n",
      " \t top cluster: 0 \n",
      " \t cluster prop 0.2441860465116279\n",
      "Practice \n",
      " \t top cluster: 4 \n",
      " \t cluster prop 0.36363636363636365\n",
      "TB \n",
      " \t top cluster: 3 \n",
      " \t cluster prop 0.22009569377990432\n"
     ]
    }
   ],
   "source": [
    "df2 = df2.reset_index()\n",
    "df2['cluster']=pd.Series(means10.labels_)\n",
    "for playlist in df2['playlist'].unique():\n",
    "    playlistSongs = df2[df2.playlist==playlist]\n",
    "    topCluster = playlistSongs['cluster'].value_counts().head(1).index[0] # Selects the most common cluster for songs in the playlist\n",
    "    topClusterProp = len(playlistSongs[playlistSongs.cluster==topCluster]) / len(playlistSongs) # The proportion of songs in the playlist which are part of top cluster\n",
    "    print(playlist,\"\\n \\t top cluster: \"+ str(topCluster),\"\\n \\t cluster prop \" + str(topClusterProp))\n",
    "    "
   ]
  },
  {
   "cell_type": "code",
   "execution_count": 49,
   "metadata": {
    "colab": {
     "autoexec": {
      "startup": false,
      "wait_interval": 0
     },
     "base_uri": "https://localhost:8080/",
     "height": 204
    },
    "colab_type": "code",
    "executionInfo": {
     "elapsed": 404,
     "status": "ok",
     "timestamp": 1525716651500,
     "user": {
      "displayName": "Zuhayer Quazi",
      "photoUrl": "//lh5.googleusercontent.com/-NTmAkTwFEkE/AAAAAAAAAAI/AAAAAAAAACg/HAqyj7Qaruk/s50-c-k-no/photo.jpg",
      "userId": "105237576177412520274"
     },
     "user_tz": 240
    },
    "id": "oyx6O03paJxC",
    "outputId": "168e94ac-12b4-4582-fb81-454f5ffc03c4"
   },
   "outputs": [
    {
     "data": {
      "text/plain": [
       "3    283\n",
       "7    244\n",
       "8    221\n",
       "5    211\n",
       "6    187\n",
       "0    150\n",
       "4    137\n",
       "2    111\n",
       "9     98\n",
       "1     69\n",
       "Name: cluster, dtype: int64"
      ]
     },
     "execution_count": 49,
     "metadata": {},
     "output_type": "execute_result"
    }
   ],
   "source": [
    "df2['cluster'].value_counts()"
   ]
  },
  {
   "cell_type": "markdown",
   "metadata": {
    "colab_type": "text",
    "id": "afnOe8mJbY0O"
   },
   "source": [
    "## Classification"
   ]
  },
  {
   "cell_type": "markdown",
   "metadata": {
    "colab_type": "text",
    "id": "FYqfrviUHT5-"
   },
   "source": [
    "Because the k-means model was not sufficient, we opted to try a classification model where the user picks songs they don't like, and we try to classify whether a song would be liked or not. Again, we equalized the number of songs labeled 'Good' and 'Bad'. We also used additional categorical variables such as key and time signature."
   ]
  },
  {
   "cell_type": "code",
   "execution_count": 50,
   "metadata": {
    "colab": {
     "autoexec": {
      "startup": false,
      "wait_interval": 0
     },
     "base_uri": "https://localhost:8080/",
     "height": 68
    },
    "colab_type": "code",
    "executionInfo": {
     "elapsed": 308,
     "status": "ok",
     "timestamp": 1525716656398,
     "user": {
      "displayName": "Zuhayer Quazi",
      "photoUrl": "//lh5.googleusercontent.com/-NTmAkTwFEkE/AAAAAAAAAAI/AAAAAAAAACg/HAqyj7Qaruk/s50-c-k-no/photo.jpg",
      "userId": "105237576177412520274"
     },
     "user_tz": 240
    },
    "id": "mrwSoysfXk1i",
    "outputId": "8a39bffb-67b6-4dab-f052-7409840af6ff"
   },
   "outputs": [
    {
     "data": {
      "text/plain": [
       "1    1711\n",
       "0    1711\n",
       "Name: Good, dtype: int64"
      ]
     },
     "execution_count": 50,
     "metadata": {},
     "output_type": "execute_result"
    }
   ],
   "source": [
    "df['Good']=df['playlist'].apply(lambda s: 1 if s != 'hateful' else 0)\n",
    "df['Good'].value_counts()"
   ]
  },
  {
   "cell_type": "code",
   "execution_count": 51,
   "metadata": {
    "colab": {
     "autoexec": {
      "startup": false,
      "wait_interval": 0
     },
     "base_uri": "https://localhost:8080/",
     "height": 68
    },
    "colab_type": "code",
    "executionInfo": {
     "elapsed": 400,
     "status": "ok",
     "timestamp": 1525716657516,
     "user": {
      "displayName": "Zuhayer Quazi",
      "photoUrl": "//lh5.googleusercontent.com/-NTmAkTwFEkE/AAAAAAAAAAI/AAAAAAAAACg/HAqyj7Qaruk/s50-c-k-no/photo.jpg",
      "userId": "105237576177412520274"
     },
     "user_tz": 240
    },
    "id": "rdDMfKbXXlh6",
    "outputId": "d3aaf421-62b3-4e96-d701-ca5bbe2c3081"
   },
   "outputs": [
    {
     "data": {
      "text/plain": [
       "1    1711\n",
       "0    1711\n",
       "Name: Good, dtype: int64"
      ]
     },
     "execution_count": 51,
     "metadata": {},
     "output_type": "execute_result"
    }
   ],
   "source": [
    "# Dropping duplicates based on song ID if any\n",
    "df = df.drop_duplicates(subset=['song id'])\n",
    "df['Good'].value_counts()"
   ]
  },
  {
   "cell_type": "code",
   "execution_count": 52,
   "metadata": {
    "colab": {
     "autoexec": {
      "startup": false,
      "wait_interval": 0
     },
     "base_uri": "https://localhost:8080/",
     "height": 68
    },
    "colab_type": "code",
    "executionInfo": {
     "elapsed": 283,
     "status": "ok",
     "timestamp": 1525716658575,
     "user": {
      "displayName": "Zuhayer Quazi",
      "photoUrl": "//lh5.googleusercontent.com/-NTmAkTwFEkE/AAAAAAAAAAI/AAAAAAAAACg/HAqyj7Qaruk/s50-c-k-no/photo.jpg",
      "userId": "105237576177412520274"
     },
     "user_tz": 240
    },
    "id": "XC9wTdspHdVO",
    "outputId": "90136b18-85a1-4c70-a221-387a0cd3b2a5"
   },
   "outputs": [
    {
     "data": {
      "text/plain": [
       "1    1711\n",
       "0    1711\n",
       "Name: Good, dtype: int64"
      ]
     },
     "execution_count": 52,
     "metadata": {},
     "output_type": "execute_result"
    }
   ],
   "source": [
    "# Equalize data to include equal number of good and bad songs\n",
    "\n",
    "df = df.sort_values(by='Good')\n",
    "df = df.head(1711*2)\n",
    "df['Good'].value_counts()"
   ]
  },
  {
   "cell_type": "code",
   "execution_count": 53,
   "metadata": {
    "colab": {
     "autoexec": {
      "startup": false,
      "wait_interval": 0
     },
     "base_uri": "https://localhost:8080/",
     "height": 153
    },
    "colab_type": "code",
    "executionInfo": {
     "elapsed": 296,
     "status": "ok",
     "timestamp": 1525716660023,
     "user": {
      "displayName": "Zuhayer Quazi",
      "photoUrl": "//lh5.googleusercontent.com/-NTmAkTwFEkE/AAAAAAAAAAI/AAAAAAAAACg/HAqyj7Qaruk/s50-c-k-no/photo.jpg",
      "userId": "105237576177412520274"
     },
     "user_tz": 240
    },
    "id": "MBmtiz9eY19-",
    "outputId": "625ae4ea-9dd6-4af4-9deb-37c6924151fc"
   },
   "outputs": [
    {
     "data": {
      "text/plain": [
       "Index(['acousticness', 'artist', 'danceability', 'duration', 'energy',\n",
       "       'instrumentalness', 'liveness', 'loudness', 'mode', 'playlist',\n",
       "       'song id', 'song name', 'speechiness', 'tempo', 'valence', 'Good',\n",
       "       'key_0', 'key_1', 'key_2', 'key_3', 'key_4', 'key_5', 'key_6', 'key_7',\n",
       "       'key_8', 'key_9', 'key_10', 'key_11', 'time_signature_0',\n",
       "       'time_signature_1', 'time_signature_3', 'time_signature_4',\n",
       "       'time_signature_5'],\n",
       "      dtype='object')"
      ]
     },
     "execution_count": 53,
     "metadata": {},
     "output_type": "execute_result"
    }
   ],
   "source": [
    "df = pd.get_dummies(df,columns=['key','time_signature']) # One-hot encoding of categorical variables 'key' and 'time_signature'\n",
    "df.columns"
   ]
  },
  {
   "cell_type": "code",
   "execution_count": 54,
   "metadata": {
    "colab": {
     "autoexec": {
      "startup": false,
      "wait_interval": 0
     },
     "base_uri": "https://localhost:8080/",
     "height": 136
    },
    "colab_type": "code",
    "executionInfo": {
     "elapsed": 273,
     "status": "ok",
     "timestamp": 1525716661494,
     "user": {
      "displayName": "Zuhayer Quazi",
      "photoUrl": "//lh5.googleusercontent.com/-NTmAkTwFEkE/AAAAAAAAAAI/AAAAAAAAACg/HAqyj7Qaruk/s50-c-k-no/photo.jpg",
      "userId": "105237576177412520274"
     },
     "user_tz": 240
    },
    "id": "B4IXxiBSX31O",
    "outputId": "297caeff-868d-49ed-e312-e702e266939a"
   },
   "outputs": [
    {
     "data": {
      "text/plain": [
       "Index(['acousticness', 'danceability', 'duration', 'energy',\n",
       "       'instrumentalness', 'liveness', 'loudness', 'mode', 'speechiness',\n",
       "       'tempo', 'valence', 'key_0', 'key_1', 'key_2', 'key_3', 'key_4',\n",
       "       'key_5', 'key_6', 'key_7', 'key_8', 'key_9', 'key_10', 'key_11',\n",
       "       'time_signature_0', 'time_signature_1', 'time_signature_3',\n",
       "       'time_signature_4', 'time_signature_5'],\n",
       "      dtype='object')"
      ]
     },
     "execution_count": 54,
     "metadata": {},
     "output_type": "execute_result"
    }
   ],
   "source": [
    "X = df.drop(labels=['artist','playlist','Good','song id','song name'],axis=1) # Exclude certain columns from features\n",
    "y = df['Good']\n",
    "X.columns"
   ]
  },
  {
   "cell_type": "code",
   "execution_count": 55,
   "metadata": {
    "colab": {
     "autoexec": {
      "startup": false,
      "wait_interval": 0
     },
     "base_uri": "https://localhost:8080/",
     "height": 253
    },
    "colab_type": "code",
    "executionInfo": {
     "elapsed": 346,
     "status": "ok",
     "timestamp": 1525716704495,
     "user": {
      "displayName": "Zuhayer Quazi",
      "photoUrl": "//lh5.googleusercontent.com/-NTmAkTwFEkE/AAAAAAAAAAI/AAAAAAAAACg/HAqyj7Qaruk/s50-c-k-no/photo.jpg",
      "userId": "105237576177412520274"
     },
     "user_tz": 240
    },
    "id": "dDVMwGI7ZtTX",
    "outputId": "6d392347-8bb9-49df-ff40-1b25c4886213"
   },
   "outputs": [
    {
     "data": {
      "text/html": [
       "<div>\n",
       "<style scoped>\n",
       "    .dataframe tbody tr th:only-of-type {\n",
       "        vertical-align: middle;\n",
       "    }\n",
       "\n",
       "    .dataframe tbody tr th {\n",
       "        vertical-align: top;\n",
       "    }\n",
       "\n",
       "    .dataframe thead th {\n",
       "        text-align: right;\n",
       "    }\n",
       "</style>\n",
       "<table border=\"1\" class=\"dataframe\">\n",
       "  <thead>\n",
       "    <tr style=\"text-align: right;\">\n",
       "      <th></th>\n",
       "      <th>acousticness</th>\n",
       "      <th>danceability</th>\n",
       "      <th>duration</th>\n",
       "      <th>energy</th>\n",
       "      <th>instrumentalness</th>\n",
       "      <th>liveness</th>\n",
       "      <th>loudness</th>\n",
       "      <th>mode</th>\n",
       "      <th>speechiness</th>\n",
       "      <th>tempo</th>\n",
       "      <th>...</th>\n",
       "      <th>key_7</th>\n",
       "      <th>key_8</th>\n",
       "      <th>key_9</th>\n",
       "      <th>key_10</th>\n",
       "      <th>key_11</th>\n",
       "      <th>time_signature_0</th>\n",
       "      <th>time_signature_1</th>\n",
       "      <th>time_signature_3</th>\n",
       "      <th>time_signature_4</th>\n",
       "      <th>time_signature_5</th>\n",
       "    </tr>\n",
       "  </thead>\n",
       "  <tbody>\n",
       "    <tr>\n",
       "      <th>60</th>\n",
       "      <td>0.92400</td>\n",
       "      <td>0.533</td>\n",
       "      <td>221733</td>\n",
       "      <td>0.148</td>\n",
       "      <td>0.932000</td>\n",
       "      <td>0.112</td>\n",
       "      <td>-18.275</td>\n",
       "      <td>1</td>\n",
       "      <td>0.0329</td>\n",
       "      <td>63.637</td>\n",
       "      <td>...</td>\n",
       "      <td>0</td>\n",
       "      <td>0</td>\n",
       "      <td>0</td>\n",
       "      <td>0</td>\n",
       "      <td>0</td>\n",
       "      <td>0</td>\n",
       "      <td>0</td>\n",
       "      <td>0</td>\n",
       "      <td>1</td>\n",
       "      <td>0</td>\n",
       "    </tr>\n",
       "    <tr>\n",
       "      <th>2054</th>\n",
       "      <td>0.00154</td>\n",
       "      <td>0.852</td>\n",
       "      <td>296413</td>\n",
       "      <td>0.617</td>\n",
       "      <td>0.000065</td>\n",
       "      <td>0.360</td>\n",
       "      <td>-7.515</td>\n",
       "      <td>0</td>\n",
       "      <td>0.1200</td>\n",
       "      <td>129.974</td>\n",
       "      <td>...</td>\n",
       "      <td>0</td>\n",
       "      <td>0</td>\n",
       "      <td>0</td>\n",
       "      <td>0</td>\n",
       "      <td>0</td>\n",
       "      <td>0</td>\n",
       "      <td>0</td>\n",
       "      <td>0</td>\n",
       "      <td>1</td>\n",
       "      <td>0</td>\n",
       "    </tr>\n",
       "    <tr>\n",
       "      <th>1514</th>\n",
       "      <td>0.00313</td>\n",
       "      <td>0.322</td>\n",
       "      <td>380640</td>\n",
       "      <td>0.816</td>\n",
       "      <td>0.473000</td>\n",
       "      <td>0.240</td>\n",
       "      <td>-11.939</td>\n",
       "      <td>1</td>\n",
       "      <td>0.0578</td>\n",
       "      <td>115.547</td>\n",
       "      <td>...</td>\n",
       "      <td>0</td>\n",
       "      <td>0</td>\n",
       "      <td>0</td>\n",
       "      <td>0</td>\n",
       "      <td>0</td>\n",
       "      <td>0</td>\n",
       "      <td>0</td>\n",
       "      <td>0</td>\n",
       "      <td>1</td>\n",
       "      <td>0</td>\n",
       "    </tr>\n",
       "    <tr>\n",
       "      <th>1646</th>\n",
       "      <td>0.11100</td>\n",
       "      <td>0.253</td>\n",
       "      <td>344507</td>\n",
       "      <td>0.891</td>\n",
       "      <td>0.000283</td>\n",
       "      <td>0.106</td>\n",
       "      <td>-5.502</td>\n",
       "      <td>1</td>\n",
       "      <td>0.0883</td>\n",
       "      <td>109.964</td>\n",
       "      <td>...</td>\n",
       "      <td>0</td>\n",
       "      <td>0</td>\n",
       "      <td>1</td>\n",
       "      <td>0</td>\n",
       "      <td>0</td>\n",
       "      <td>0</td>\n",
       "      <td>0</td>\n",
       "      <td>0</td>\n",
       "      <td>1</td>\n",
       "      <td>0</td>\n",
       "    </tr>\n",
       "    <tr>\n",
       "      <th>617</th>\n",
       "      <td>0.03610</td>\n",
       "      <td>0.315</td>\n",
       "      <td>295133</td>\n",
       "      <td>0.775</td>\n",
       "      <td>0.017300</td>\n",
       "      <td>0.428</td>\n",
       "      <td>-4.766</td>\n",
       "      <td>0</td>\n",
       "      <td>0.0378</td>\n",
       "      <td>108.115</td>\n",
       "      <td>...</td>\n",
       "      <td>0</td>\n",
       "      <td>0</td>\n",
       "      <td>0</td>\n",
       "      <td>0</td>\n",
       "      <td>0</td>\n",
       "      <td>0</td>\n",
       "      <td>0</td>\n",
       "      <td>0</td>\n",
       "      <td>1</td>\n",
       "      <td>0</td>\n",
       "    </tr>\n",
       "  </tbody>\n",
       "</table>\n",
       "<p>5 rows × 28 columns</p>\n",
       "</div>"
      ],
      "text/plain": [
       "      acousticness  danceability  duration  energy  instrumentalness  \\\n",
       "60         0.92400         0.533    221733   0.148          0.932000   \n",
       "2054       0.00154         0.852    296413   0.617          0.000065   \n",
       "1514       0.00313         0.322    380640   0.816          0.473000   \n",
       "1646       0.11100         0.253    344507   0.891          0.000283   \n",
       "617        0.03610         0.315    295133   0.775          0.017300   \n",
       "\n",
       "      liveness  loudness  mode  speechiness    tempo        ...         key_7  \\\n",
       "60       0.112   -18.275     1       0.0329   63.637        ...             0   \n",
       "2054     0.360    -7.515     0       0.1200  129.974        ...             0   \n",
       "1514     0.240   -11.939     1       0.0578  115.547        ...             0   \n",
       "1646     0.106    -5.502     1       0.0883  109.964        ...             0   \n",
       "617      0.428    -4.766     0       0.0378  108.115        ...             0   \n",
       "\n",
       "      key_8  key_9  key_10  key_11  time_signature_0  time_signature_1  \\\n",
       "60        0      0       0       0                 0                 0   \n",
       "2054      0      0       0       0                 0                 0   \n",
       "1514      0      0       0       0                 0                 0   \n",
       "1646      0      1       0       0                 0                 0   \n",
       "617       0      0       0       0                 0                 0   \n",
       "\n",
       "      time_signature_3  time_signature_4  time_signature_5  \n",
       "60                   0                 1                 0  \n",
       "2054                 0                 1                 0  \n",
       "1514                 0                 1                 0  \n",
       "1646                 0                 1                 0  \n",
       "617                  0                 1                 0  \n",
       "\n",
       "[5 rows x 28 columns]"
      ]
     },
     "execution_count": 55,
     "metadata": {},
     "output_type": "execute_result"
    }
   ],
   "source": [
    "# train test split\n",
    "X_train, X_test, y_train, y_test = model_selection.train_test_split(X,y,test_size=.3,random_state=3)\n",
    "X_train.head()"
   ]
  },
  {
   "cell_type": "code",
   "execution_count": 56,
   "metadata": {
    "colab": {
     "autoexec": {
      "startup": false,
      "wait_interval": 0
     },
     "base_uri": "https://localhost:8080/",
     "height": 34
    },
    "colab_type": "code",
    "executionInfo": {
     "elapsed": 355,
     "status": "ok",
     "timestamp": 1525716708866,
     "user": {
      "displayName": "Zuhayer Quazi",
      "photoUrl": "//lh5.googleusercontent.com/-NTmAkTwFEkE/AAAAAAAAAAI/AAAAAAAAACg/HAqyj7Qaruk/s50-c-k-no/photo.jpg",
      "userId": "105237576177412520274"
     },
     "user_tz": 240
    },
    "id": "MpNvHokwceke",
    "outputId": "b0000421-5923-47e0-f189-7a3e56996a27"
   },
   "outputs": [
    {
     "data": {
      "text/plain": [
       "0.55988315481986373"
      ]
     },
     "execution_count": 56,
     "metadata": {},
     "output_type": "execute_result"
    }
   ],
   "source": [
    "# Logistic Regression\n",
    "log = LogisticRegression()\n",
    "log.fit(X_train, y_train)\n",
    "log.score(X_test,y_test)"
   ]
  },
  {
   "cell_type": "code",
   "execution_count": 57,
   "metadata": {
    "colab": {
     "autoexec": {
      "startup": false,
      "wait_interval": 0
     },
     "base_uri": "https://localhost:8080/",
     "height": 34
    },
    "colab_type": "code",
    "executionInfo": {
     "elapsed": 598,
     "status": "ok",
     "timestamp": 1525716711731,
     "user": {
      "displayName": "Zuhayer Quazi",
      "photoUrl": "//lh5.googleusercontent.com/-NTmAkTwFEkE/AAAAAAAAAAI/AAAAAAAAACg/HAqyj7Qaruk/s50-c-k-no/photo.jpg",
      "userId": "105237576177412520274"
     },
     "user_tz": 240
    },
    "id": "U2jaa-jhdbHd",
    "outputId": "a20cc8ec-fd70-4442-8bd7-349f794946de"
   },
   "outputs": [
    {
     "data": {
      "text/plain": [
       "0.90847127555988316"
      ]
     },
     "execution_count": 57,
     "metadata": {},
     "output_type": "execute_result"
    }
   ],
   "source": [
    "# Gradient Boosting Classifier\n",
    "clf = GradientBoostingClassifier()\n",
    "clf.fit(X_train,y_train)\n",
    "clf.score(X_test,y_test)"
   ]
  },
  {
   "cell_type": "markdown",
   "metadata": {
    "colab_type": "text",
    "id": "-p92uFDcXb3Y"
   },
   "source": [
    "## Evaluate Model"
   ]
  },
  {
   "cell_type": "markdown",
   "metadata": {},
   "source": [
    "In this section, we downloaded the top 50 albums from Spotify's \"New Releases\" page, and then predicted for all of them using the model."
   ]
  },
  {
   "cell_type": "code",
   "execution_count": 86,
   "metadata": {
    "colab": {
     "autoexec": {
      "startup": false,
      "wait_interval": 0
     }
    },
    "colab_type": "code",
    "id": "J3NdpYjvUGgw"
   },
   "outputs": [
    {
     "data": {
      "text/html": [
       "<div>\n",
       "<style scoped>\n",
       "    .dataframe tbody tr th:only-of-type {\n",
       "        vertical-align: middle;\n",
       "    }\n",
       "\n",
       "    .dataframe tbody tr th {\n",
       "        vertical-align: top;\n",
       "    }\n",
       "\n",
       "    .dataframe thead th {\n",
       "        text-align: right;\n",
       "    }\n",
       "</style>\n",
       "<table border=\"1\" class=\"dataframe\">\n",
       "  <thead>\n",
       "    <tr style=\"text-align: right;\">\n",
       "      <th></th>\n",
       "      <th>acousticness</th>\n",
       "      <th>artists</th>\n",
       "      <th>danceability</th>\n",
       "      <th>duration</th>\n",
       "      <th>energy</th>\n",
       "      <th>instrumentalness</th>\n",
       "      <th>key</th>\n",
       "      <th>liveness</th>\n",
       "      <th>loudness</th>\n",
       "      <th>mode</th>\n",
       "      <th>song id</th>\n",
       "      <th>song name</th>\n",
       "      <th>speechiness</th>\n",
       "      <th>tempo</th>\n",
       "      <th>time_signature</th>\n",
       "      <th>valence</th>\n",
       "    </tr>\n",
       "  </thead>\n",
       "  <tbody>\n",
       "    <tr>\n",
       "      <th>0</th>\n",
       "      <td>0.012900</td>\n",
       "      <td>Rae Sremmurd</td>\n",
       "      <td>0.898</td>\n",
       "      <td>246449</td>\n",
       "      <td>0.751</td>\n",
       "      <td>0.000000</td>\n",
       "      <td>11</td>\n",
       "      <td>0.363</td>\n",
       "      <td>-4.646</td>\n",
       "      <td>1</td>\n",
       "      <td>4669wTPqp7Xwz2H7v4QKi1</td>\n",
       "      <td>Up In My Cocina - From SR3MM</td>\n",
       "      <td>0.1480</td>\n",
       "      <td>129.972</td>\n",
       "      <td>4</td>\n",
       "      <td>0.4620</td>\n",
       "    </tr>\n",
       "    <tr>\n",
       "      <th>1</th>\n",
       "      <td>0.104000</td>\n",
       "      <td>Rae Sremmurd</td>\n",
       "      <td>0.691</td>\n",
       "      <td>193510</td>\n",
       "      <td>0.736</td>\n",
       "      <td>0.000000</td>\n",
       "      <td>0</td>\n",
       "      <td>0.111</td>\n",
       "      <td>-4.993</td>\n",
       "      <td>1</td>\n",
       "      <td>1oUudyBYVGMIC8JXeIsFzq</td>\n",
       "      <td>CLOSE (feat. Travis Scott) - From SR3MM</td>\n",
       "      <td>0.0321</td>\n",
       "      <td>140.034</td>\n",
       "      <td>4</td>\n",
       "      <td>0.0395</td>\n",
       "    </tr>\n",
       "    <tr>\n",
       "      <th>2</th>\n",
       "      <td>0.054400</td>\n",
       "      <td>Rae Sremmurd</td>\n",
       "      <td>0.803</td>\n",
       "      <td>292727</td>\n",
       "      <td>0.640</td>\n",
       "      <td>0.000048</td>\n",
       "      <td>4</td>\n",
       "      <td>0.342</td>\n",
       "      <td>-4.527</td>\n",
       "      <td>0</td>\n",
       "      <td>6nI74KsH94IN0J2vp5shdT</td>\n",
       "      <td>Bedtime Stories (feat. The Weeknd) - From SR3MM</td>\n",
       "      <td>0.0279</td>\n",
       "      <td>131.986</td>\n",
       "      <td>4</td>\n",
       "      <td>0.0380</td>\n",
       "    </tr>\n",
       "    <tr>\n",
       "      <th>3</th>\n",
       "      <td>0.000692</td>\n",
       "      <td>Rae Sremmurd</td>\n",
       "      <td>0.899</td>\n",
       "      <td>204787</td>\n",
       "      <td>0.448</td>\n",
       "      <td>0.000024</td>\n",
       "      <td>1</td>\n",
       "      <td>0.365</td>\n",
       "      <td>-8.789</td>\n",
       "      <td>1</td>\n",
       "      <td>1ung2kajpw24AaHjBtPY3j</td>\n",
       "      <td>Perplexing Pegasus - From SR3MM</td>\n",
       "      <td>0.0738</td>\n",
       "      <td>145.975</td>\n",
       "      <td>4</td>\n",
       "      <td>0.3020</td>\n",
       "    </tr>\n",
       "    <tr>\n",
       "      <th>4</th>\n",
       "      <td>0.030300</td>\n",
       "      <td>Rae Sremmurd</td>\n",
       "      <td>0.903</td>\n",
       "      <td>281298</td>\n",
       "      <td>0.581</td>\n",
       "      <td>0.000291</td>\n",
       "      <td>11</td>\n",
       "      <td>0.102</td>\n",
       "      <td>-4.797</td>\n",
       "      <td>1</td>\n",
       "      <td>2TtWdYXulGcHCeUJUWwZ4M</td>\n",
       "      <td>Buckets (feat. Future) - From SR3MM</td>\n",
       "      <td>0.0686</td>\n",
       "      <td>139.998</td>\n",
       "      <td>4</td>\n",
       "      <td>0.2640</td>\n",
       "    </tr>\n",
       "  </tbody>\n",
       "</table>\n",
       "</div>"
      ],
      "text/plain": [
       "   acousticness       artists  danceability  duration  energy  \\\n",
       "0      0.012900  Rae Sremmurd         0.898    246449   0.751   \n",
       "1      0.104000  Rae Sremmurd         0.691    193510   0.736   \n",
       "2      0.054400  Rae Sremmurd         0.803    292727   0.640   \n",
       "3      0.000692  Rae Sremmurd         0.899    204787   0.448   \n",
       "4      0.030300  Rae Sremmurd         0.903    281298   0.581   \n",
       "\n",
       "   instrumentalness  key  liveness  loudness  mode                 song id  \\\n",
       "0          0.000000   11     0.363    -4.646     1  4669wTPqp7Xwz2H7v4QKi1   \n",
       "1          0.000000    0     0.111    -4.993     1  1oUudyBYVGMIC8JXeIsFzq   \n",
       "2          0.000048    4     0.342    -4.527     0  6nI74KsH94IN0J2vp5shdT   \n",
       "3          0.000024    1     0.365    -8.789     1  1ung2kajpw24AaHjBtPY3j   \n",
       "4          0.000291   11     0.102    -4.797     1  2TtWdYXulGcHCeUJUWwZ4M   \n",
       "\n",
       "                                         song name  speechiness    tempo  \\\n",
       "0                     Up In My Cocina - From SR3MM       0.1480  129.972   \n",
       "1          CLOSE (feat. Travis Scott) - From SR3MM       0.0321  140.034   \n",
       "2  Bedtime Stories (feat. The Weeknd) - From SR3MM       0.0279  131.986   \n",
       "3                  Perplexing Pegasus - From SR3MM       0.0738  145.975   \n",
       "4              Buckets (feat. Future) - From SR3MM       0.0686  139.998   \n",
       "\n",
       "   time_signature  valence  \n",
       "0               4   0.4620  \n",
       "1               4   0.0395  \n",
       "2               4   0.0380  \n",
       "3               4   0.3020  \n",
       "4               4   0.2640  "
      ]
     },
     "execution_count": 86,
     "metadata": {},
     "output_type": "execute_result"
    }
   ],
   "source": [
    "# dfProbs = df_new.copy()\n",
    "\n",
    "dfProbs = pd.read_csv(\"NewSongs.csv\", index_col = 0)\n",
    "dfProbs.head()"
   ]
  },
  {
   "cell_type": "code",
   "execution_count": 87,
   "metadata": {
    "collapsed": true
   },
   "outputs": [],
   "source": [
    "# Data processing\n",
    "\n",
    "if 'key' in df_new.columns: df_new = pd.get_dummies(df_new,columns=['key','time_signature'])\n",
    "if 'song id' in df_new.columns: df_new = df_new.drop(labels=['song id','song name', 'artists'],axis=1)\n",
    "df_new['time_signature_0'] = 0\n",
    "df_new['time_signature_1'] = 0\n",
    "df_new['time_signature_5'] = 0\n",
    "\n",
    "probs = clf.predict_proba(df_new)\n",
    "\n",
    "dfProbs['Bad Prob']=pd.Series(clf.predict_proba(df_new)[:,0])\n",
    "dfProbs['Good Prob']=pd.Series(clf.predict_proba(df_new)[:,1])"
   ]
  },
  {
   "cell_type": "code",
   "execution_count": 88,
   "metadata": {
    "colab": {
     "autoexec": {
      "startup": false,
      "wait_interval": 0
     },
     "base_uri": "https://localhost:8080/",
     "height": 1599
    },
    "colab_type": "code",
    "executionInfo": {
     "elapsed": 304,
     "status": "ok",
     "timestamp": 1525717135662,
     "user": {
      "displayName": "Zuhayer Quazi",
      "photoUrl": "//lh5.googleusercontent.com/-NTmAkTwFEkE/AAAAAAAAAAI/AAAAAAAAACg/HAqyj7Qaruk/s50-c-k-no/photo.jpg",
      "userId": "105237576177412520274"
     },
     "user_tz": 240
    },
    "id": "ty6ozJaRTpQW",
    "outputId": "3c11b60a-fdee-4589-f466-f6ad55687c74"
   },
   "outputs": [
    {
     "data": {
      "text/html": [
       "<div>\n",
       "<style scoped>\n",
       "    .dataframe tbody tr th:only-of-type {\n",
       "        vertical-align: middle;\n",
       "    }\n",
       "\n",
       "    .dataframe tbody tr th {\n",
       "        vertical-align: top;\n",
       "    }\n",
       "\n",
       "    .dataframe thead th {\n",
       "        text-align: right;\n",
       "    }\n",
       "</style>\n",
       "<table border=\"1\" class=\"dataframe\">\n",
       "  <thead>\n",
       "    <tr style=\"text-align: right;\">\n",
       "      <th></th>\n",
       "      <th>song name</th>\n",
       "      <th>Good Prob</th>\n",
       "    </tr>\n",
       "  </thead>\n",
       "  <tbody>\n",
       "    <tr>\n",
       "      <th>84</th>\n",
       "      <td>The One You Know</td>\n",
       "      <td>0.102164</td>\n",
       "    </tr>\n",
       "    <tr>\n",
       "      <th>246</th>\n",
       "      <td>Its Been Awhile</td>\n",
       "      <td>0.098985</td>\n",
       "    </tr>\n",
       "    <tr>\n",
       "      <th>260</th>\n",
       "      <td>Sunshine</td>\n",
       "      <td>0.092145</td>\n",
       "    </tr>\n",
       "    <tr>\n",
       "      <th>111</th>\n",
       "      <td>The Middle</td>\n",
       "      <td>0.084096</td>\n",
       "    </tr>\n",
       "    <tr>\n",
       "      <th>53</th>\n",
       "      <td>PYRO</td>\n",
       "      <td>0.083983</td>\n",
       "    </tr>\n",
       "    <tr>\n",
       "      <th>49</th>\n",
       "      <td>DEVIL</td>\n",
       "      <td>0.073864</td>\n",
       "    </tr>\n",
       "    <tr>\n",
       "      <th>257</th>\n",
       "      <td>Just Waiting</td>\n",
       "      <td>0.073053</td>\n",
       "    </tr>\n",
       "    <tr>\n",
       "      <th>235</th>\n",
       "      <td>Galaxy</td>\n",
       "      <td>0.072851</td>\n",
       "    </tr>\n",
       "    <tr>\n",
       "      <th>248</th>\n",
       "      <td>Blxxm_no.1</td>\n",
       "      <td>0.070420</td>\n",
       "    </tr>\n",
       "    <tr>\n",
       "      <th>64</th>\n",
       "      <td>Baíle de Favela</td>\n",
       "      <td>0.069876</td>\n",
       "    </tr>\n",
       "    <tr>\n",
       "      <th>123</th>\n",
       "      <td>Draw Me Nearer</td>\n",
       "      <td>0.064711</td>\n",
       "    </tr>\n",
       "    <tr>\n",
       "      <th>50</th>\n",
       "      <td>BLACK SOUL</td>\n",
       "      <td>0.056390</td>\n",
       "    </tr>\n",
       "    <tr>\n",
       "      <th>263</th>\n",
       "      <td>On The Run</td>\n",
       "      <td>0.051226</td>\n",
       "    </tr>\n",
       "    <tr>\n",
       "      <th>57</th>\n",
       "      <td>EVOLVE</td>\n",
       "      <td>0.048136</td>\n",
       "    </tr>\n",
       "    <tr>\n",
       "      <th>67</th>\n",
       "      <td>Black Mamba</td>\n",
       "      <td>0.046118</td>\n",
       "    </tr>\n",
       "    <tr>\n",
       "      <th>237</th>\n",
       "      <td>Analog</td>\n",
       "      <td>0.043657</td>\n",
       "    </tr>\n",
       "    <tr>\n",
       "      <th>234</th>\n",
       "      <td>Shades</td>\n",
       "      <td>0.038611</td>\n",
       "    </tr>\n",
       "    <tr>\n",
       "      <th>128</th>\n",
       "      <td>The Very Thought of You</td>\n",
       "      <td>0.038493</td>\n",
       "    </tr>\n",
       "    <tr>\n",
       "      <th>236</th>\n",
       "      <td>Visions</td>\n",
       "      <td>0.036506</td>\n",
       "    </tr>\n",
       "    <tr>\n",
       "      <th>240</th>\n",
       "      <td>Night Isle</td>\n",
       "      <td>0.034505</td>\n",
       "    </tr>\n",
       "    <tr>\n",
       "      <th>61</th>\n",
       "      <td>BRILLIANT</td>\n",
       "      <td>0.029469</td>\n",
       "    </tr>\n",
       "    <tr>\n",
       "      <th>244</th>\n",
       "      <td>Moonlight</td>\n",
       "      <td>0.027308</td>\n",
       "    </tr>\n",
       "    <tr>\n",
       "      <th>245</th>\n",
       "      <td>Studies</td>\n",
       "      <td>0.026921</td>\n",
       "    </tr>\n",
       "    <tr>\n",
       "      <th>258</th>\n",
       "      <td>Longevity</td>\n",
       "      <td>0.024769</td>\n",
       "    </tr>\n",
       "    <tr>\n",
       "      <th>121</th>\n",
       "      <td>Bali</td>\n",
       "      <td>0.022205</td>\n",
       "    </tr>\n",
       "    <tr>\n",
       "      <th>122</th>\n",
       "      <td>Faithful</td>\n",
       "      <td>0.022193</td>\n",
       "    </tr>\n",
       "    <tr>\n",
       "      <th>127</th>\n",
       "      <td>Fourteen</td>\n",
       "      <td>0.020025</td>\n",
       "    </tr>\n",
       "    <tr>\n",
       "      <th>247</th>\n",
       "      <td>Blunted</td>\n",
       "      <td>0.018339</td>\n",
       "    </tr>\n",
       "    <tr>\n",
       "      <th>48</th>\n",
       "      <td>THE ENTRANCE</td>\n",
       "      <td>0.018331</td>\n",
       "    </tr>\n",
       "    <tr>\n",
       "      <th>241</th>\n",
       "      <td>Canvas</td>\n",
       "      <td>0.015229</td>\n",
       "    </tr>\n",
       "    <tr>\n",
       "      <th>131</th>\n",
       "      <td>Peace</td>\n",
       "      <td>0.014941</td>\n",
       "    </tr>\n",
       "    <tr>\n",
       "      <th>181</th>\n",
       "      <td>Shadow Of Your Love</td>\n",
       "      <td>0.013656</td>\n",
       "    </tr>\n",
       "    <tr>\n",
       "      <th>261</th>\n",
       "      <td>Wave Riders</td>\n",
       "      <td>0.013122</td>\n",
       "    </tr>\n",
       "    <tr>\n",
       "      <th>126</th>\n",
       "      <td>Eclipse</td>\n",
       "      <td>0.011724</td>\n",
       "    </tr>\n",
       "    <tr>\n",
       "      <th>177</th>\n",
       "      <td>Foot Of Your Bed</td>\n",
       "      <td>0.011710</td>\n",
       "    </tr>\n",
       "    <tr>\n",
       "      <th>259</th>\n",
       "      <td>City Streets</td>\n",
       "      <td>0.011045</td>\n",
       "    </tr>\n",
       "    <tr>\n",
       "      <th>129</th>\n",
       "      <td>Space</td>\n",
       "      <td>0.010219</td>\n",
       "    </tr>\n",
       "    <tr>\n",
       "      <th>254</th>\n",
       "      <td>Eyes For Her</td>\n",
       "      <td>0.010067</td>\n",
       "    </tr>\n",
       "    <tr>\n",
       "      <th>176</th>\n",
       "      <td>Back Seat Driver</td>\n",
       "      <td>0.009266</td>\n",
       "    </tr>\n",
       "    <tr>\n",
       "      <th>238</th>\n",
       "      <td>Day Break</td>\n",
       "      <td>0.009213</td>\n",
       "    </tr>\n",
       "    <tr>\n",
       "      <th>265</th>\n",
       "      <td>Summer Time</td>\n",
       "      <td>0.009092</td>\n",
       "    </tr>\n",
       "    <tr>\n",
       "      <th>267</th>\n",
       "      <td>Calling It A Night (Outro)</td>\n",
       "      <td>0.009033</td>\n",
       "    </tr>\n",
       "    <tr>\n",
       "      <th>125</th>\n",
       "      <td>Blackbird</td>\n",
       "      <td>0.008921</td>\n",
       "    </tr>\n",
       "    <tr>\n",
       "      <th>264</th>\n",
       "      <td>Phone On Silent</td>\n",
       "      <td>0.008854</td>\n",
       "    </tr>\n",
       "    <tr>\n",
       "      <th>130</th>\n",
       "      <td>Time Remembered</td>\n",
       "      <td>0.008621</td>\n",
       "    </tr>\n",
       "    <tr>\n",
       "      <th>256</th>\n",
       "      <td>Dance Floor In The 5th Dimension</td>\n",
       "      <td>0.007851</td>\n",
       "    </tr>\n",
       "    <tr>\n",
       "      <th>124</th>\n",
       "      <td>Moment's Notice</td>\n",
       "      <td>0.007541</td>\n",
       "    </tr>\n",
       "    <tr>\n",
       "      <th>262</th>\n",
       "      <td>Next Saturday</td>\n",
       "      <td>0.006028</td>\n",
       "    </tr>\n",
       "    <tr>\n",
       "      <th>242</th>\n",
       "      <td>Travls</td>\n",
       "      <td>0.004094</td>\n",
       "    </tr>\n",
       "    <tr>\n",
       "      <th>239</th>\n",
       "      <td>Rhodes</td>\n",
       "      <td>0.002724</td>\n",
       "    </tr>\n",
       "  </tbody>\n",
       "</table>\n",
       "</div>"
      ],
      "text/plain": [
       "                            song name  Good Prob\n",
       "84                   The One You Know   0.102164\n",
       "246                   Its Been Awhile   0.098985\n",
       "260                          Sunshine   0.092145\n",
       "111                        The Middle   0.084096\n",
       "53                               PYRO   0.083983\n",
       "49                              DEVIL   0.073864\n",
       "257                      Just Waiting   0.073053\n",
       "235                            Galaxy   0.072851\n",
       "248                        Blxxm_no.1   0.070420\n",
       "64                    Baíle de Favela   0.069876\n",
       "123                    Draw Me Nearer   0.064711\n",
       "50                         BLACK SOUL   0.056390\n",
       "263                        On The Run   0.051226\n",
       "57                             EVOLVE   0.048136\n",
       "67                        Black Mamba   0.046118\n",
       "237                            Analog   0.043657\n",
       "234                            Shades   0.038611\n",
       "128           The Very Thought of You   0.038493\n",
       "236                           Visions   0.036506\n",
       "240                        Night Isle   0.034505\n",
       "61                          BRILLIANT   0.029469\n",
       "244                         Moonlight   0.027308\n",
       "245                           Studies   0.026921\n",
       "258                         Longevity   0.024769\n",
       "121                              Bali   0.022205\n",
       "122                          Faithful   0.022193\n",
       "127                          Fourteen   0.020025\n",
       "247                           Blunted   0.018339\n",
       "48                       THE ENTRANCE   0.018331\n",
       "241                            Canvas   0.015229\n",
       "131                             Peace   0.014941\n",
       "181               Shadow Of Your Love   0.013656\n",
       "261                       Wave Riders   0.013122\n",
       "126                           Eclipse   0.011724\n",
       "177                  Foot Of Your Bed   0.011710\n",
       "259                      City Streets   0.011045\n",
       "129                             Space   0.010219\n",
       "254                      Eyes For Her   0.010067\n",
       "176                  Back Seat Driver   0.009266\n",
       "238                         Day Break   0.009213\n",
       "265                       Summer Time   0.009092\n",
       "267        Calling It A Night (Outro)   0.009033\n",
       "125                         Blackbird   0.008921\n",
       "264                   Phone On Silent   0.008854\n",
       "130                   Time Remembered   0.008621\n",
       "256  Dance Floor In The 5th Dimension   0.007851\n",
       "124                   Moment's Notice   0.007541\n",
       "262                     Next Saturday   0.006028\n",
       "242                            Travls   0.004094\n",
       "239                            Rhodes   0.002724"
      ]
     },
     "execution_count": 88,
     "metadata": {},
     "output_type": "execute_result"
    }
   ],
   "source": [
    "dfProbs.sort_values(by='Good Prob',ascending=False)[['song name','Good Prob']].tail(50)"
   ]
  },
  {
   "cell_type": "code",
   "execution_count": 89,
   "metadata": {
    "colab": {
     "autoexec": {
      "startup": false,
      "wait_interval": 0
     }
    },
    "colab_type": "code",
    "collapsed": true,
    "id": "bEkDC27JV6sk"
   },
   "outputs": [],
   "source": [
    "# Songs with ratings of 93% good probability of higher\n",
    "goodS = \"\"\"\n",
    "0\tUp In My Cocina - From SR3MM\t0.994279\n",
    "8\tT'd Up - From SR3MM\t0.994097\n",
    "30\tAccelerate\t0.992923\n",
    "22\tCap (feat. Trouble) - From Jxmtro\t0.992294\n",
    "41\tLions\t0.992204\n",
    "23\tChanged Up - From Jxmtro\t0.989324\n",
    "9\tTouchscreen Navigation - From Swaecation\t0.989267\n",
    "1\tCLOSE (feat. Travis Scott) - From SR3MM\t0.989024\n",
    "44\tMrs.\t0.988655\n",
    "32\tThe Way I Am\t0.988585\n",
    "5\t\"42\" - From SR3MM\t0.986100\n",
    "3\tPerplexing Pegasus - From SR3MM\t0.985823\n",
    "72\tThis Is How\t0.985285\n",
    "19\tPlayers Club - From Jxmtro\t0.984476\n",
    "24\tKeep God First - From Jxmtro\t0.984321\n",
    "50\tKILL YOUR CONSCIENCE\t0.984141\n",
    "28\tThis Is America\t0.984130\n",
    "17\tWhat's In Your Heart? - From Swaecation\t0.984128\n",
    "6\tPowerglide (feat. Juicy J) - From SR3MM\t0.983892\n",
    "80\tJump (featuring Trippie Redd)\t0.983699\n",
    "4\tBuckets (feat. Future) - From SR3MM\t0.983603\n",
    "33\tDone For Me (feat. Kehlani)\t0.982617\n",
    "20\tAnti-Social Smokers Club (feat. Zoë Kravitz) -...\t0.982421\n",
    "13\tGuatemala - From Swaecation\t0.981966\n",
    "29\tWatch (feat. Lil Uzi Vert & Kanye West)\t0.978741\n",
    "93\tMove Them Britches - Heathens Remix\t0.978614\n",
    "65\tDon't Give Up\t0.977049\n",
    "37\tBad Bad News\t0.976897\n",
    "15\tHurt To Look - From Swaecation\t0.976836\n",
    "38\tShy\t0.973716\n",
    "26\tGrowed Up - From Jxmtro\t0.973215\n",
    "40\tForgive You\t0.972538\n",
    "25\tJuggling Biddies (feat. Riff 3x) - From Jxmtro\t0.970556\n",
    "91\tMove Them Britches\t0.970129\n",
    "31\tHunger\t0.967826\n",
    "39\tBeyond\t0.964417\n",
    "27\tYouth (feat. Khalid)\t0.963924\n",
    "21\tChanel (feat. Swae Lee & Pharrell) - From Jxmtro\t0.961873\n",
    "7\tRock N Roll Hall Of Fame - From SR3MM\t0.961690\n",
    "18\tBrxnks Truck - From Jxmtro\t0.960156\n",
    "12\tOffshore (feat. Young Thug) - From Swaecation\t0.958588\n",
    "42\tIf It Feels Good (Then It Must Be)\t0.953091\n",
    "66\tEverybody (feat. Sam King)\t0.951527\n",
    "11\tHeat Of The Moment - From Swaecation\t0.947481\n",
    "70\tShadow City\t0.945074\n",
    "2\tBedtime Stories (feat. The Weeknd) - From SR3MM\t0.942124\n",
    "82\tStay With Me\t0.940908\n",
    "43\tYou Don't Know\t0.938393\n",
    "79\tI'll Be There\t0.937629\n",
    "35\tGenius - with Sia, Diplo & Labrinth\t0.936968\"\"\"\n",
    "\n",
    "\n",
    "### Songs with ratings of 46% good probability or lower\n",
    "badS = \"\"\"\n",
    "53\tDARKSIDE\t0.453484\n",
    "101\tPlease\t0.444501\n",
    "45\tGeorgia to Texas\t0.439824\n",
    "104\tTell Me Something\t0.426231\n",
    "67\tLemme See U\t0.364039\n",
    "103\tNever Start\t0.363133\n",
    "56\tGET UP\t0.277780\n",
    "52\tMONSTERS\t0.239409\n",
    "58\tTHE HUMAN RADIO\t0.236558\n",
    "54\tCREATURES\t0.221383\n",
    "49\tATTENTION ATTENTION\t0.189917\n",
    "96\tEdge of Town\t0.187822\n",
    "73\tI'll Wait (Vocal Mix) [feat. Shaylen]\t0.175698\n",
    "61\tBaíle de Favela\t0.154587\n",
    "68\tLSD\t0.144370\n",
    "62\tMystifying Oracle\t0.139027\n",
    "47\tDEVIL\t0.118551\n",
    "59\tBRILLIANT\t0.103557\n",
    "81\tThe One You Know\t0.100097\n",
    "63\tFake U Out\t0.090315\n",
    "48\tBLACK SOUL\t0.085934\n",
    "51\tPYRO\t0.075718\n",
    "55\tEVOLVE\t0.069970\n",
    "64\tBlack Mamba\t0.045118\n",
    "46\tTHE ENTRANCE\t0.023699\n",
    "\n",
    "\"\"\""
   ]
  },
  {
   "cell_type": "code",
   "execution_count": 90,
   "metadata": {
    "colab": {
     "autoexec": {
      "startup": false,
      "wait_interval": 0
     }
    },
    "colab_type": "code",
    "collapsed": true,
    "id": "V96m7n7AXVoy"
   },
   "outputs": [],
   "source": [
    "goodSongs = goodS.splitlines()\n",
    "goodList = []\n",
    "for line in goodSongs:\n",
    "    s = ''\n",
    "    for c in line:\n",
    "        if c.isalpha() or c == ' ':\n",
    "            s = s+c\n",
    "        goodList.append(s.strip())\n",
    "badSongs = badS.splitlines()\n",
    "badList = []\n",
    "for line in badSongs:\n",
    "    s = ''\n",
    "    for c in line:\n",
    "        if c.isalpha() or c == ' ':\n",
    "            s = s+c\n",
    "        badList.append(s.strip())"
   ]
  },
  {
   "cell_type": "markdown",
   "metadata": {
    "colab_type": "text",
    "id": "FaIsjT3uDS8U"
   },
   "source": [
    "#### A Pandas Series containing songs and the model's rating"
   ]
  },
  {
   "cell_type": "code",
   "execution_count": 91,
   "metadata": {
    "colab": {
     "autoexec": {
      "startup": false,
      "wait_interval": 0
     }
    },
    "colab_type": "code",
    "collapsed": true,
    "id": "e8j1RirqZVAd"
   },
   "outputs": [],
   "source": [
    "dictt = dict()\n",
    "for song in goodList+badList:\n",
    "    if song in goodList:\n",
    "        dictt[song]=\"Good\"\n",
    "    else:\n",
    "        dictt[song]=\"Bad\"\n",
    "ser = pd.Series(dictt)"
   ]
  },
  {
   "cell_type": "markdown",
   "metadata": {
    "colab_type": "text",
    "id": "evl3YMr4IkZq"
   },
   "source": [
    "## Testing Model on New Releases"
   ]
  },
  {
   "cell_type": "markdown",
   "metadata": {
    "colab_type": "text",
    "id": "ARtPl-6VIJN6"
   },
   "source": [
    "To evaluate the model, we used songs from Spotify's \"New Releases\" playlists. We chose songs from the top 50 albums, and recommended those that had a probability greater than 97.5% of being liked by the user. We created a new playlist for the user containing these songs."
   ]
  },
  {
   "cell_type": "code",
   "execution_count": 92,
   "metadata": {
    "colab": {
     "autoexec": {
      "startup": false,
      "wait_interval": 0
     },
     "base_uri": "https://localhost:8080/",
     "height": 235
    },
    "colab_type": "code",
    "collapsed": true,
    "executionInfo": {
     "elapsed": 374,
     "status": "error",
     "timestamp": 1525804083435,
     "user": {
      "displayName": "Zachary Goldstein",
      "photoUrl": "https://lh3.googleusercontent.com/a/default-user=s128",
      "userId": "101517250061806100921"
     },
     "user_tz": 240
    },
    "id": "asXgu2hYITsa",
    "outputId": "a95b0542-5836-4a84-c759-6f84527b7140"
   },
   "outputs": [],
   "source": [
    "# sp = spotipy.Spotify(auth=token)\n",
    "# playlists = sp.new_releases(limit=50)\n",
    "\n",
    "\n",
    "# albums = []\n",
    "# for album in playlists['albums']['items']:\n",
    "#     albums.append((sp.album(album['id'])))\n",
    "# track_ids = [item['id'] for album in albums for item in album['tracks']['items']]\n",
    "# artists1 = [item['artists'][0]['name'] for album in albums for item in album['tracks']['items']]\n",
    "# song_name1 = [item['name'] for album in albums for item in album['tracks']['items']]\n",
    "\n",
    "\n",
    "# features = [sp.audio_features(track_id)[0] for track_id in track_ids]\n",
    "\n",
    "# danceability1 = []\n",
    "# energy1 = []\n",
    "# key1 = []\n",
    "# loudness1 = []\n",
    "# mode1 = []\n",
    "# speechiness1 = []\n",
    "# acousticness1 = []\n",
    "# liveness1 = []\n",
    "# tempo1 = []\n",
    "# valence1 = []\n",
    "# duration1 = []\n",
    "# instrumentalness1 = []\n",
    "# mode1 = []\n",
    "# time_signature1 = []\n",
    "\n",
    "# for i, elem in enumerate(features):\n",
    "#     if(elem==None):\n",
    "#         del song_name1[i]\n",
    "#         del track_ids[i]\n",
    "#         del artists1[i]\n",
    "#     else:\n",
    "#         danceability1.append(elem['danceability'])\n",
    "#         energy1.append(elem['energy'])\n",
    "#         key1.append(elem['key'])\n",
    "#         loudness1.append(elem['loudness'])\n",
    "#         mode1.append(elem['mode'])\n",
    "#         speechiness1.append(elem['speechiness'])\n",
    "#         acousticness1.append(elem['acousticness'])\n",
    "#         liveness1.append(elem['liveness'])\n",
    "#         tempo1.append(elem['tempo'])\n",
    "#         valence1.append(elem['valence'])\n",
    "#         duration1.append(elem['duration_ms'])\n",
    "#         instrumentalness1.append(elem['instrumentalness'])\n",
    "#         time_signature1.append(elem['time_signature'])\n",
    "\n",
    "\n",
    "# d1 = {'song name' : song_name1, 'artists': artists1, 'song id': track_ids,'duration':duration1, 'instrumentalness':instrumentalness1, 'mode':mode1,'time_signature':time_signature1, 'danceability': danceability1, 'key':key1, 'energy':energy1, 'mode':mode1, 'speechiness':speechiness1, 'loudness':loudness1, 'acousticness':acousticness1, 'liveness':liveness1, 'tempo':tempo1, 'valence':valence1}\n",
    "# df_new = pd.DataFrame(data=d1)\n",
    "\n",
    "# # df_new.to_csv(\"NewSongs.csv\")\n",
    "# print(df_new.columns)\n",
    "# print(df_new.shape)\n",
    "# df_new.head()"
   ]
  },
  {
   "cell_type": "code",
   "execution_count": 93,
   "metadata": {
    "colab": {
     "autoexec": {
      "startup": false,
      "wait_interval": 0
     },
     "base_uri": "https://localhost:8080/",
     "height": 204
    },
    "colab_type": "code",
    "executionInfo": {
     "elapsed": 358,
     "status": "ok",
     "timestamp": 1525719173437,
     "user": {
      "displayName": "Zuhayer Quazi",
      "photoUrl": "//lh5.googleusercontent.com/-NTmAkTwFEkE/AAAAAAAAAAI/AAAAAAAAACg/HAqyj7Qaruk/s50-c-k-no/photo.jpg",
      "userId": "105237576177412520274"
     },
     "user_tz": 240
    },
    "id": "bHsKRrAKNcmn",
    "outputId": "5c496604-89c7-4605-fda0-3e3de8ce22fb"
   },
   "outputs": [
    {
     "data": {
      "text/html": [
       "<div>\n",
       "<style scoped>\n",
       "    .dataframe tbody tr th:only-of-type {\n",
       "        vertical-align: middle;\n",
       "    }\n",
       "\n",
       "    .dataframe tbody tr th {\n",
       "        vertical-align: top;\n",
       "    }\n",
       "\n",
       "    .dataframe thead th {\n",
       "        text-align: right;\n",
       "    }\n",
       "</style>\n",
       "<table border=\"1\" class=\"dataframe\">\n",
       "  <thead>\n",
       "    <tr style=\"text-align: right;\">\n",
       "      <th></th>\n",
       "      <th>song name</th>\n",
       "      <th>artists</th>\n",
       "      <th>song id</th>\n",
       "      <th>Good Prob</th>\n",
       "    </tr>\n",
       "  </thead>\n",
       "  <tbody>\n",
       "    <tr>\n",
       "      <th>216</th>\n",
       "      <td>Good Day</td>\n",
       "      <td>BlocBoy JB</td>\n",
       "      <td>2Fsxt5KZgDP7BvqhjDkZFz</td>\n",
       "      <td>0.995424</td>\n",
       "    </tr>\n",
       "    <tr>\n",
       "      <th>194</th>\n",
       "      <td>Tonka</td>\n",
       "      <td>Desiigner</td>\n",
       "      <td>544FLIfmISCEEvPaU0Jn8w</td>\n",
       "      <td>0.994993</td>\n",
       "    </tr>\n",
       "    <tr>\n",
       "      <th>139</th>\n",
       "      <td>Cocaine</td>\n",
       "      <td>Royce Da 5'9\"</td>\n",
       "      <td>3qglYeMgK0rWFD2gcSojUw</td>\n",
       "      <td>0.994991</td>\n",
       "    </tr>\n",
       "    <tr>\n",
       "      <th>201</th>\n",
       "      <td>No Defeat</td>\n",
       "      <td>Preme</td>\n",
       "      <td>2pCD1kCkSXHfM1rTzsIKgd</td>\n",
       "      <td>0.994159</td>\n",
       "    </tr>\n",
       "    <tr>\n",
       "      <th>137</th>\n",
       "      <td>Dumb (feat. Boogie)</td>\n",
       "      <td>Royce Da 5'9\"</td>\n",
       "      <td>3Ng5Szb0DnGUdxrJ6H3OGw</td>\n",
       "      <td>0.993982</td>\n",
       "    </tr>\n",
       "  </tbody>\n",
       "</table>\n",
       "</div>"
      ],
      "text/plain": [
       "               song name        artists                 song id  Good Prob\n",
       "216             Good Day     BlocBoy JB  2Fsxt5KZgDP7BvqhjDkZFz   0.995424\n",
       "194                Tonka      Desiigner  544FLIfmISCEEvPaU0Jn8w   0.994993\n",
       "139              Cocaine  Royce Da 5'9\"  3qglYeMgK0rWFD2gcSojUw   0.994991\n",
       "201            No Defeat          Preme  2pCD1kCkSXHfM1rTzsIKgd   0.994159\n",
       "137  Dumb (feat. Boogie)  Royce Da 5'9\"  3Ng5Szb0DnGUdxrJ6H3OGw   0.993982"
      ]
     },
     "execution_count": 93,
     "metadata": {},
     "output_type": "execute_result"
    }
   ],
   "source": [
    "dfNew = dfProbs.sort_values(by='Good Prob',ascending=False)[['song name','artists','song id','Good Prob']]\n",
    "dfNew = dfNew[dfNew['Good Prob'] > 0.975]\n",
    "dfNew.head()"
   ]
  },
  {
   "cell_type": "markdown",
   "metadata": {
    "colab_type": "text",
    "id": "u4w48snjDJTc"
   },
   "source": [
    "#### New songs used for user testing"
   ]
  },
  {
   "cell_type": "code",
   "execution_count": 94,
   "metadata": {
    "colab": {
     "autoexec": {
      "startup": false,
      "wait_interval": 0
     }
    },
    "colab_type": "code",
    "collapsed": true,
    "id": "R0vaVuarbd3D"
   },
   "outputs": [],
   "source": [
    "zSongs = ['ATTENTION ATTENTION',\n",
    " 'BLACK SOUL',\n",
    " 'Bad Bad News',\n",
    " 'Baíle de Favela',\n",
    " 'Black Mamba',\n",
    " 'Brxnks Truck  From Jxmtro',\n",
    " 'Buckets feat Future  From SRMM',\n",
    " 'CLOSE feat Travis Scott  From SRMM',\n",
    " 'CREATURES',\n",
    " 'Cap feat Trouble  From Jxmtro',\n",
    " 'Chanel feat Swae Lee  Pharrell  From Jxmtro',\n",
    " 'Changed Up  From Jxmtro',\n",
    " 'DARKSIDE',\n",
    " 'DEVIL',\n",
    " 'Done For Me feat Kehlani',\n",
    " 'Edge of Town',\n",
    " 'Fake U Out',\n",
    " 'GET UP',\n",
    " 'Genius  with Sia Diplo  Labrinth',\n",
    " 'Georgia to Texas',\n",
    " 'Growed Up  From Jxmtro',\n",
    " 'Guatemala  From Swaecation',\n",
    " 'Heat Of The Moment  From Swaecation',\n",
    " 'Hurt To Look  From Swaecation',\n",
    " 'If It Feels Good Then It Must Be',\n",
    " 'Ill Wait Vocal Mix feat Shaylen',\n",
    " 'Jump featuring Trippie Redd',\n",
    " 'KILL YOUR CONSCIENCE',\n",
    " 'LSD',\n",
    " 'Lemme See U',\n",
    " 'MONSTERS',\n",
    " 'Move Them Britches  Heathens Remix',\n",
    " 'PYRO',\n",
    " 'Perplexing Pegasus  From SRMM',\n",
    " 'Please',\n",
    " 'Rock N Roll Hall Of Fame  From SRMM',\n",
    " 'Shy',\n",
    " 'Stay With Me',\n",
    " 'THE HUMAN RADIO',\n",
    " 'Td Up  From SRMM',\n",
    " 'Tell Me Something',\n",
    " 'The One You Know',\n",
    " 'This Is America',\n",
    " 'This Is How',\n",
    " 'Touchscreen Navigation  From Swaecation',\n",
    " 'Watch feat Lil Uzi Vert  Kanye West',\n",
    " 'Whats In Your Heart  From Swaecation',\n",
    " 'You Dont Know',\n",
    " 'Youth feat Khalid']"
   ]
  },
  {
   "cell_type": "markdown",
   "metadata": {
    "colab_type": "text",
    "id": "CsYTi9nwCjua"
   },
   "source": [
    "#### Predictions that the model made about the new songs (0 = Bad, 1 = Good)"
   ]
  },
  {
   "cell_type": "code",
   "execution_count": 95,
   "metadata": {
    "colab": {
     "autoexec": {
      "startup": false,
      "wait_interval": 0
     },
     "base_uri": "https://localhost:8080/",
     "height": 34
    },
    "colab_type": "code",
    "executionInfo": {
     "elapsed": 413,
     "status": "ok",
     "timestamp": 1525717195516,
     "user": {
      "displayName": "Zuhayer Quazi",
      "photoUrl": "//lh5.googleusercontent.com/-NTmAkTwFEkE/AAAAAAAAAAI/AAAAAAAAACg/HAqyj7Qaruk/s50-c-k-no/photo.jpg",
      "userId": "105237576177412520274"
     },
     "user_tz": 240
    },
    "id": "29MfksGdb4Mg",
    "outputId": "9d3f6bea-4c7a-406a-ce72-7ca182bf5068"
   },
   "outputs": [
    {
     "data": {
      "text/plain": [
       "[0, 0, 1, 0, 0, 1, 1, 1, 0, 1]"
      ]
     },
     "execution_count": 95,
     "metadata": {},
     "output_type": "execute_result"
    }
   ],
   "source": [
    "predictions = []\n",
    "for song in zSongs:\n",
    "    if dictt[song] == \"Good\":\n",
    "        predictions.append(1)\n",
    "    else:\n",
    "        predictions.append(0)\n",
    "predictions[:10]"
   ]
  },
  {
   "cell_type": "markdown",
   "metadata": {
    "colab_type": "text",
    "id": "fOYndt68Ctij"
   },
   "source": [
    "#### User ratings of the new songs (0 = Bad, 1 = Good)"
   ]
  },
  {
   "cell_type": "code",
   "execution_count": 96,
   "metadata": {
    "colab": {
     "autoexec": {
      "startup": false,
      "wait_interval": 0
     },
     "base_uri": "https://localhost:8080/",
     "height": 35
    },
    "colab_type": "code",
    "executionInfo": {
     "elapsed": 336,
     "status": "ok",
     "timestamp": 1525804717791,
     "user": {
      "displayName": "Zachary Goldstein",
      "photoUrl": "https://lh3.googleusercontent.com/a/default-user=s128",
      "userId": "101517250061806100921"
     },
     "user_tz": 240
    },
    "id": "TKh9-qQNiY6E",
    "outputId": "fee47875-85b1-410c-ac7c-db3227139de4"
   },
   "outputs": [
    {
     "data": {
      "text/plain": [
       "(17, 32)"
      ]
     },
     "execution_count": 96,
     "metadata": {},
     "output_type": "execute_result"
    }
   ],
   "source": [
    "answers = [0, 0, 0, 0, 0, 1, 1, 1, 0, 1, 1, 0, 0, 0, 1, 0, 1, 0, 1, 0, 0, 0, 0, 0, 1, 0, 1, 0, 0, 0, 0, 0, 0, 1, 0, 1, 0, 0, 0, 1, 0, 0, 1, 1, 0, 1, 0, 0, 1]\n",
    "zGood = answers.count(1)\n",
    "zBad = answers.count(0)\n",
    "zGood,zBad # The user rated 17 songas as good, and 32 as bad"
   ]
  },
  {
   "cell_type": "markdown",
   "metadata": {
    "colab_type": "text",
    "id": "E5jc_1VwC0mP"
   },
   "source": [
    "#### Model Accuracy"
   ]
  },
  {
   "cell_type": "code",
   "execution_count": 97,
   "metadata": {
    "colab": {
     "autoexec": {
      "startup": false,
      "wait_interval": 0
     },
     "base_uri": "https://localhost:8080/",
     "height": 68
    },
    "colab_type": "code",
    "executionInfo": {
     "elapsed": 368,
     "status": "ok",
     "timestamp": 1525717198879,
     "user": {
      "displayName": "Zuhayer Quazi",
      "photoUrl": "//lh5.googleusercontent.com/-NTmAkTwFEkE/AAAAAAAAAAI/AAAAAAAAACg/HAqyj7Qaruk/s50-c-k-no/photo.jpg",
      "userId": "105237576177412520274"
     },
     "user_tz": 240
    },
    "id": "xz_JJkXgcEHf",
    "outputId": "01d1a33a-92bc-405e-a648-5372611124cf"
   },
   "outputs": [
    {
     "name": "stdout",
     "output_type": "stream",
     "text": [
      "Accuracy: 0.7142857142857143\n",
      "Accuracy Among Z Says Good 0.9411764705882353\n",
      "Accuracy Among Z Says Bad 0.59375\n"
     ]
    }
   ],
   "source": [
    "correct = 0\n",
    "zGoodCorrect = 0\n",
    "zBadCorrect = 0\n",
    "for i in range(len(predictions)):\n",
    "    if answers[i] == predictions[i]: # If the model is correct\n",
    "        correct += 1\n",
    "        if answers[i]==1: # If the user rates the song as good\n",
    "            zGoodCorrect += 1\n",
    "        else: # If the user rates the song as bad\n",
    "            zBadCorrect += 1\n",
    "print(\"Accuracy:\",correct/len(predictions))\n",
    "print(\"Accuracy Among Z Says Good\",zGoodCorrect/zGood)\n",
    "print(\"Accuracy Among Z Says Bad\",zBadCorrect/zBad)"
   ]
  },
  {
   "cell_type": "markdown",
   "metadata": {
    "colab_type": "text",
    "id": "V17fYqiFHmeG"
   },
   "source": [
    "##  Create New Playlist for User based on Predicted Top Songs"
   ]
  },
  {
   "cell_type": "markdown",
   "metadata": {
    "colab_type": "text",
    "id": "Bm27a6s2JXcs"
   },
   "source": [
    "Spotify only allows adding up to 100 songs at a time, so we pick the top 100 songs from the list of songs that were chosen."
   ]
  },
  {
   "cell_type": "code",
   "execution_count": 98,
   "metadata": {
    "colab": {
     "autoexec": {
      "startup": false,
      "wait_interval": 0
     },
     "base_uri": "https://localhost:8080/",
     "height": 232
    },
    "colab_type": "code",
    "executionInfo": {
     "elapsed": 359,
     "status": "error",
     "timestamp": 1525720100440,
     "user": {
      "displayName": "Zuhayer Quazi",
      "photoUrl": "//lh5.googleusercontent.com/-NTmAkTwFEkE/AAAAAAAAAAI/AAAAAAAAACg/HAqyj7Qaruk/s50-c-k-no/photo.jpg",
      "userId": "105237576177412520274"
     },
     "user_tz": 240
    },
    "id": "xkcBiTml4gIJ",
    "outputId": "fec6ce37-bffc-4a1c-bc91-943e619a3ac9"
   },
   "outputs": [
    {
     "data": {
      "text/plain": [
       "{'snapshot_id': 'M/VMLAS6Z3T/MZFO7ADNjuaqCdosb9S8Tg7hZCeyPEmXt4JLTBfNX0Bnhk2/ExC2'}"
      ]
     },
     "execution_count": 98,
     "metadata": {},
     "output_type": "execute_result"
    }
   ],
   "source": [
    "username = 'zquazi'\n",
    "tokenNew = util.prompt_for_user_token(username,scope = 'playlist-modify-public',client_id='91d0861f48494759abc3ff706433c107',client_secret='1a4622890abc418e817727a1b0266ebe',redirect_uri='https://example.com/callback')\n",
    "\n",
    "if tokenNew:\n",
    "    sp = spotipy.Spotify(auth=tokenNew)\n",
    "    new = sp.user_playlist_create(username, name = \"New Songs for You\")\n",
    "songs_to_add = list(dfNew['song id'].values)\n",
    "sp.user_playlist_add_tracks(username, new['id'], songs_to_add[:100])\n",
    "    "
   ]
  },
  {
   "cell_type": "markdown",
   "metadata": {
    "colab_type": "text",
    "id": "_K7UivqRIpjl"
   },
   "source": [
    "## Areas for Further Investigation"
   ]
  },
  {
   "cell_type": "markdown",
   "metadata": {
    "colab_type": "text",
    "id": "PXJGu2qpJLPq"
   },
   "source": [
    "- We classified songs as either \"Good\" or \"Bad\", but we could also build a regression model to predict a quantitatie measure of a song's \"Goodness\"\n",
    "- For example, we could try to predict how many times a song has been listened to (a proxy measure of how much a user likes a song)\n",
    "- If we were able to obtain many users' spotify data, we could use collaborative filtering to recommend songs based on what similar users listen to"
   ]
  },
  {
   "cell_type": "code",
   "execution_count": null,
   "metadata": {
    "collapsed": true
   },
   "outputs": [],
   "source": []
  }
 ],
 "metadata": {
  "colab": {
   "collapsed_sections": [
    "-p92uFDcXb3Y",
    "evl3YMr4IkZq",
    "V17fYqiFHmeG"
   ],
   "default_view": {},
   "name": "PDS_Final_Project_Py3.ipynb",
   "provenance": [],
   "version": "0.3.2",
   "views": {}
  },
  "kernelspec": {
   "display_name": "Python 3",
   "language": "python",
   "name": "python3"
  },
  "language_info": {
   "codemirror_mode": {
    "name": "ipython",
    "version": 3
   },
   "file_extension": ".py",
   "mimetype": "text/x-python",
   "name": "python",
   "nbconvert_exporter": "python",
   "pygments_lexer": "ipython3",
   "version": "3.6.0"
  }
 },
 "nbformat": 4,
 "nbformat_minor": 1
}
